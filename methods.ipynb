{
  "metadata": {
    "kernelspec": {
      "name": "python",
      "display_name": "Python (Pyodide)",
      "language": "python"
    },
    "language_info": {
      "codemirror_mode": {
        "name": "python",
        "version": 3
      },
      "file_extension": ".py",
      "mimetype": "text/x-python",
      "name": "python",
      "nbconvert_exporter": "python",
      "pygments_lexer": "ipython3",
      "version": "3.8"
    }
  },
  "nbformat_minor": 4,
  "nbformat": 4,
  "cells": [
    {
      "cell_type": "markdown",
      "source": "# Useful methods we can perform on pandas dataframes",
      "metadata": {}
    },
    {
      "cell_type": "markdown",
      "source": "### Apply methods in pandas ",
      "metadata": {}
    },
    {
      "cell_type": "code",
      "source": "# .apply() method calls ---> we can create any custom python function of our own to multiple rows in andas df takin in one or more column as input\n\nimport numpy as np\nimport pandas as pd",
      "metadata": {
        "trusted": true
      },
      "outputs": [],
      "execution_count": 5
    },
    {
      "cell_type": "code",
      "source": "df = pd.read_csv(\"tips.csv\")",
      "metadata": {
        "trusted": true
      },
      "outputs": [],
      "execution_count": 6
    },
    {
      "cell_type": "code",
      "source": "df.head()",
      "metadata": {
        "trusted": true
      },
      "outputs": [
        {
          "execution_count": 7,
          "output_type": "execute_result",
          "data": {
            "text/plain": "   total_bill   tip     sex smoker  day    time  size  price_per_person  \\\n0       16.99  1.01  Female     No  Sun  Dinner     2              8.49   \n1       10.34  1.66    Male     No  Sun  Dinner     3              3.45   \n2       21.01  3.50    Male     No  Sun  Dinner     3              7.00   \n3       23.68  3.31    Male     No  Sun  Dinner     2             11.84   \n4       24.59  3.61  Female     No  Sun  Dinner     4              6.15   \n\n           Payer Name         CC Number Payment ID  \n0  Christy Cunningham  3560325168603410    Sun2959  \n1      Douglas Tucker  4478071379779230    Sun4608  \n2      Travis Walters  6011812112971322    Sun4458  \n3    Nathaniel Harris  4676137647685994    Sun5260  \n4        Tonya Carter  4832732618637221    Sun2251  ",
            "text/html": "<div>\n<style scoped>\n    .dataframe tbody tr th:only-of-type {\n        vertical-align: middle;\n    }\n\n    .dataframe tbody tr th {\n        vertical-align: top;\n    }\n\n    .dataframe thead th {\n        text-align: right;\n    }\n</style>\n<table border=\"1\" class=\"dataframe\">\n  <thead>\n    <tr style=\"text-align: right;\">\n      <th></th>\n      <th>total_bill</th>\n      <th>tip</th>\n      <th>sex</th>\n      <th>smoker</th>\n      <th>day</th>\n      <th>time</th>\n      <th>size</th>\n      <th>price_per_person</th>\n      <th>Payer Name</th>\n      <th>CC Number</th>\n      <th>Payment ID</th>\n    </tr>\n  </thead>\n  <tbody>\n    <tr>\n      <th>0</th>\n      <td>16.99</td>\n      <td>1.01</td>\n      <td>Female</td>\n      <td>No</td>\n      <td>Sun</td>\n      <td>Dinner</td>\n      <td>2</td>\n      <td>8.49</td>\n      <td>Christy Cunningham</td>\n      <td>3560325168603410</td>\n      <td>Sun2959</td>\n    </tr>\n    <tr>\n      <th>1</th>\n      <td>10.34</td>\n      <td>1.66</td>\n      <td>Male</td>\n      <td>No</td>\n      <td>Sun</td>\n      <td>Dinner</td>\n      <td>3</td>\n      <td>3.45</td>\n      <td>Douglas Tucker</td>\n      <td>4478071379779230</td>\n      <td>Sun4608</td>\n    </tr>\n    <tr>\n      <th>2</th>\n      <td>21.01</td>\n      <td>3.50</td>\n      <td>Male</td>\n      <td>No</td>\n      <td>Sun</td>\n      <td>Dinner</td>\n      <td>3</td>\n      <td>7.00</td>\n      <td>Travis Walters</td>\n      <td>6011812112971322</td>\n      <td>Sun4458</td>\n    </tr>\n    <tr>\n      <th>3</th>\n      <td>23.68</td>\n      <td>3.31</td>\n      <td>Male</td>\n      <td>No</td>\n      <td>Sun</td>\n      <td>Dinner</td>\n      <td>2</td>\n      <td>11.84</td>\n      <td>Nathaniel Harris</td>\n      <td>4676137647685994</td>\n      <td>Sun5260</td>\n    </tr>\n    <tr>\n      <th>4</th>\n      <td>24.59</td>\n      <td>3.61</td>\n      <td>Female</td>\n      <td>No</td>\n      <td>Sun</td>\n      <td>Dinner</td>\n      <td>4</td>\n      <td>6.15</td>\n      <td>Tonya Carter</td>\n      <td>4832732618637221</td>\n      <td>Sun2251</td>\n    </tr>\n  </tbody>\n</table>\n</div>"
          },
          "metadata": {}
        }
      ],
      "execution_count": 7
    },
    {
      "cell_type": "code",
      "source": "#Apply method example - we want to get hold of last 4 digit of CC number which is integer data type\n# NB :- i.e there is no builtin method  in pandas that takes in int, convert it into str & return the slice of it\n\ndef last_four(num):           # create a custom python func to convert int to str & then grab last 4 digit\n    return str(num)[-4:]\n\nlast4(4832732618637221)",
      "metadata": {
        "trusted": true
      },
      "outputs": [
        {
          "execution_count": 32,
          "output_type": "execute_result",
          "data": {
            "text/plain": "'7221'"
          },
          "metadata": {}
        }
      ],
      "execution_count": 32
    },
    {
      "cell_type": "code",
      "source": "df['CC Number'].apply(last_four)  # passing in our custom func last_four in .apply() call method --> returns rows last 4 index of CC Number column    ",
      "metadata": {
        "trusted": true
      },
      "outputs": [
        {
          "execution_count": 33,
          "output_type": "execute_result",
          "data": {
            "text/plain": "0      3410\n1      9230\n2      1322\n3      5994\n4      7221\n       ... \n239    2842\n240    5404\n241    7196\n242    0950\n243    8139\nName: CC Number, Length: 244, dtype: object"
          },
          "metadata": {}
        }
      ],
      "execution_count": 33
    },
    {
      "cell_type": "code",
      "source": "df['last_four CC'] = df['CC Number'].apply(last_four) #creates a new colunm last_four CC \ndf",
      "metadata": {
        "trusted": true
      },
      "outputs": [
        {
          "execution_count": 36,
          "output_type": "execute_result",
          "data": {
            "text/plain": "     total_bill   tip     sex smoker   day    time  size  price_per_person  \\\n0         16.99  1.01  Female     No   Sun  Dinner     2              8.49   \n1         10.34  1.66    Male     No   Sun  Dinner     3              3.45   \n2         21.01  3.50    Male     No   Sun  Dinner     3              7.00   \n3         23.68  3.31    Male     No   Sun  Dinner     2             11.84   \n4         24.59  3.61  Female     No   Sun  Dinner     4              6.15   \n..          ...   ...     ...    ...   ...     ...   ...               ...   \n239       29.03  5.92    Male     No   Sat  Dinner     3              9.68   \n240       27.18  2.00  Female    Yes   Sat  Dinner     2             13.59   \n241       22.67  2.00    Male    Yes   Sat  Dinner     2             11.34   \n242       17.82  1.75    Male     No   Sat  Dinner     2              8.91   \n243       18.78  3.00  Female     No  Thur  Dinner     2              9.39   \n\n             Payer Name         CC Number Payment ID last_four CC  \n0    Christy Cunningham  3560325168603410    Sun2959         3410  \n1        Douglas Tucker  4478071379779230    Sun4608         9230  \n2        Travis Walters  6011812112971322    Sun4458         1322  \n3      Nathaniel Harris  4676137647685994    Sun5260         5994  \n4          Tonya Carter  4832732618637221    Sun2251         7221  \n..                  ...               ...        ...          ...  \n239       Michael Avila  5296068606052842    Sat2657         2842  \n240      Monica Sanders  3506806155565404    Sat1766         5404  \n241          Keith Wong  6011891618747196    Sat3880         7196  \n242        Dennis Dixon     4375220550950      Sat17         0950  \n243     Michelle Hardin  3511451626698139    Thur672         8139  \n\n[244 rows x 12 columns]",
            "text/html": "<div>\n<style scoped>\n    .dataframe tbody tr th:only-of-type {\n        vertical-align: middle;\n    }\n\n    .dataframe tbody tr th {\n        vertical-align: top;\n    }\n\n    .dataframe thead th {\n        text-align: right;\n    }\n</style>\n<table border=\"1\" class=\"dataframe\">\n  <thead>\n    <tr style=\"text-align: right;\">\n      <th></th>\n      <th>total_bill</th>\n      <th>tip</th>\n      <th>sex</th>\n      <th>smoker</th>\n      <th>day</th>\n      <th>time</th>\n      <th>size</th>\n      <th>price_per_person</th>\n      <th>Payer Name</th>\n      <th>CC Number</th>\n      <th>Payment ID</th>\n      <th>last_four CC</th>\n    </tr>\n  </thead>\n  <tbody>\n    <tr>\n      <th>0</th>\n      <td>16.99</td>\n      <td>1.01</td>\n      <td>Female</td>\n      <td>No</td>\n      <td>Sun</td>\n      <td>Dinner</td>\n      <td>2</td>\n      <td>8.49</td>\n      <td>Christy Cunningham</td>\n      <td>3560325168603410</td>\n      <td>Sun2959</td>\n      <td>3410</td>\n    </tr>\n    <tr>\n      <th>1</th>\n      <td>10.34</td>\n      <td>1.66</td>\n      <td>Male</td>\n      <td>No</td>\n      <td>Sun</td>\n      <td>Dinner</td>\n      <td>3</td>\n      <td>3.45</td>\n      <td>Douglas Tucker</td>\n      <td>4478071379779230</td>\n      <td>Sun4608</td>\n      <td>9230</td>\n    </tr>\n    <tr>\n      <th>2</th>\n      <td>21.01</td>\n      <td>3.50</td>\n      <td>Male</td>\n      <td>No</td>\n      <td>Sun</td>\n      <td>Dinner</td>\n      <td>3</td>\n      <td>7.00</td>\n      <td>Travis Walters</td>\n      <td>6011812112971322</td>\n      <td>Sun4458</td>\n      <td>1322</td>\n    </tr>\n    <tr>\n      <th>3</th>\n      <td>23.68</td>\n      <td>3.31</td>\n      <td>Male</td>\n      <td>No</td>\n      <td>Sun</td>\n      <td>Dinner</td>\n      <td>2</td>\n      <td>11.84</td>\n      <td>Nathaniel Harris</td>\n      <td>4676137647685994</td>\n      <td>Sun5260</td>\n      <td>5994</td>\n    </tr>\n    <tr>\n      <th>4</th>\n      <td>24.59</td>\n      <td>3.61</td>\n      <td>Female</td>\n      <td>No</td>\n      <td>Sun</td>\n      <td>Dinner</td>\n      <td>4</td>\n      <td>6.15</td>\n      <td>Tonya Carter</td>\n      <td>4832732618637221</td>\n      <td>Sun2251</td>\n      <td>7221</td>\n    </tr>\n    <tr>\n      <th>...</th>\n      <td>...</td>\n      <td>...</td>\n      <td>...</td>\n      <td>...</td>\n      <td>...</td>\n      <td>...</td>\n      <td>...</td>\n      <td>...</td>\n      <td>...</td>\n      <td>...</td>\n      <td>...</td>\n      <td>...</td>\n    </tr>\n    <tr>\n      <th>239</th>\n      <td>29.03</td>\n      <td>5.92</td>\n      <td>Male</td>\n      <td>No</td>\n      <td>Sat</td>\n      <td>Dinner</td>\n      <td>3</td>\n      <td>9.68</td>\n      <td>Michael Avila</td>\n      <td>5296068606052842</td>\n      <td>Sat2657</td>\n      <td>2842</td>\n    </tr>\n    <tr>\n      <th>240</th>\n      <td>27.18</td>\n      <td>2.00</td>\n      <td>Female</td>\n      <td>Yes</td>\n      <td>Sat</td>\n      <td>Dinner</td>\n      <td>2</td>\n      <td>13.59</td>\n      <td>Monica Sanders</td>\n      <td>3506806155565404</td>\n      <td>Sat1766</td>\n      <td>5404</td>\n    </tr>\n    <tr>\n      <th>241</th>\n      <td>22.67</td>\n      <td>2.00</td>\n      <td>Male</td>\n      <td>Yes</td>\n      <td>Sat</td>\n      <td>Dinner</td>\n      <td>2</td>\n      <td>11.34</td>\n      <td>Keith Wong</td>\n      <td>6011891618747196</td>\n      <td>Sat3880</td>\n      <td>7196</td>\n    </tr>\n    <tr>\n      <th>242</th>\n      <td>17.82</td>\n      <td>1.75</td>\n      <td>Male</td>\n      <td>No</td>\n      <td>Sat</td>\n      <td>Dinner</td>\n      <td>2</td>\n      <td>8.91</td>\n      <td>Dennis Dixon</td>\n      <td>4375220550950</td>\n      <td>Sat17</td>\n      <td>0950</td>\n    </tr>\n    <tr>\n      <th>243</th>\n      <td>18.78</td>\n      <td>3.00</td>\n      <td>Female</td>\n      <td>No</td>\n      <td>Thur</td>\n      <td>Dinner</td>\n      <td>2</td>\n      <td>9.39</td>\n      <td>Michelle Hardin</td>\n      <td>3511451626698139</td>\n      <td>Thur672</td>\n      <td>8139</td>\n    </tr>\n  </tbody>\n</table>\n<p>244 rows × 12 columns</p>\n</div>"
          },
          "metadata": {}
        }
      ],
      "execution_count": 36
    },
    {
      "cell_type": "code",
      "source": "",
      "metadata": {
        "trusted": true
      },
      "outputs": [],
      "execution_count": null
    },
    {
      "cell_type": "code",
      "source": "#exampe 2 --> review price as $$$ base on total_bill \n\ndf['total_bill']",
      "metadata": {
        "trusted": true
      },
      "outputs": [
        {
          "execution_count": 37,
          "output_type": "execute_result",
          "data": {
            "text/plain": "0      16.99\n1      10.34\n2      21.01\n3      23.68\n4      24.59\n       ...  \n239    29.03\n240    27.18\n241    22.67\n242    17.82\n243    18.78\nName: total_bill, Length: 244, dtype: float64"
          },
          "metadata": {}
        }
      ],
      "execution_count": 37
    },
    {
      "cell_type": "code",
      "source": "df['total_bill'].mean()",
      "metadata": {
        "trusted": true
      },
      "outputs": [
        {
          "execution_count": 38,
          "output_type": "execute_result",
          "data": {
            "text/plain": "19.78594262295082"
          },
          "metadata": {}
        }
      ],
      "execution_count": 38
    },
    {
      "cell_type": "code",
      "source": "# - create a custom python func that takes in bill int & turns it into str $, $$$ or $$$ base on the bill\n\ndef review(price):\n    if price < 10 :\n        return \"$\"\n    elif price >= 10 and price < 30 :\n        return \"$$\"\n    else:\n        return \"$$$\"\n\nreview(32)",
      "metadata": {
        "trusted": true
      },
      "outputs": [
        {
          "execution_count": 39,
          "output_type": "execute_result",
          "data": {
            "text/plain": "'$$$'"
          },
          "metadata": {}
        }
      ],
      "execution_count": 39
    },
    {
      "cell_type": "code",
      "source": "df['total_bill'].apply(review) #passing in our custom review func as input ---> return rows of total_bill column as $$$ base on its bill ",
      "metadata": {
        "trusted": true
      },
      "outputs": [
        {
          "execution_count": 40,
          "output_type": "execute_result",
          "data": {
            "text/plain": "0      $$\n1      $$\n2      $$\n3      $$\n4      $$\n       ..\n239    $$\n240    $$\n241    $$\n242    $$\n243    $$\nName: total_bill, Length: 244, dtype: object"
          },
          "metadata": {}
        }
      ],
      "execution_count": 40
    },
    {
      "cell_type": "code",
      "source": "df['review'] = df['total_bill'].apply(review) # create new table call review\ndf.head()",
      "metadata": {
        "trusted": true
      },
      "outputs": [
        {
          "execution_count": 41,
          "output_type": "execute_result",
          "data": {
            "text/plain": "   total_bill   tip     sex smoker  day    time  size  price_per_person  \\\n0       16.99  1.01  Female     No  Sun  Dinner     2              8.49   \n1       10.34  1.66    Male     No  Sun  Dinner     3              3.45   \n2       21.01  3.50    Male     No  Sun  Dinner     3              7.00   \n3       23.68  3.31    Male     No  Sun  Dinner     2             11.84   \n4       24.59  3.61  Female     No  Sun  Dinner     4              6.15   \n\n           Payer Name         CC Number Payment ID last_four CC review  \n0  Christy Cunningham  3560325168603410    Sun2959         3410     $$  \n1      Douglas Tucker  4478071379779230    Sun4608         9230     $$  \n2      Travis Walters  6011812112971322    Sun4458         1322     $$  \n3    Nathaniel Harris  4676137647685994    Sun5260         5994     $$  \n4        Tonya Carter  4832732618637221    Sun2251         7221     $$  ",
            "text/html": "<div>\n<style scoped>\n    .dataframe tbody tr th:only-of-type {\n        vertical-align: middle;\n    }\n\n    .dataframe tbody tr th {\n        vertical-align: top;\n    }\n\n    .dataframe thead th {\n        text-align: right;\n    }\n</style>\n<table border=\"1\" class=\"dataframe\">\n  <thead>\n    <tr style=\"text-align: right;\">\n      <th></th>\n      <th>total_bill</th>\n      <th>tip</th>\n      <th>sex</th>\n      <th>smoker</th>\n      <th>day</th>\n      <th>time</th>\n      <th>size</th>\n      <th>price_per_person</th>\n      <th>Payer Name</th>\n      <th>CC Number</th>\n      <th>Payment ID</th>\n      <th>last_four CC</th>\n      <th>review</th>\n    </tr>\n  </thead>\n  <tbody>\n    <tr>\n      <th>0</th>\n      <td>16.99</td>\n      <td>1.01</td>\n      <td>Female</td>\n      <td>No</td>\n      <td>Sun</td>\n      <td>Dinner</td>\n      <td>2</td>\n      <td>8.49</td>\n      <td>Christy Cunningham</td>\n      <td>3560325168603410</td>\n      <td>Sun2959</td>\n      <td>3410</td>\n      <td>$$</td>\n    </tr>\n    <tr>\n      <th>1</th>\n      <td>10.34</td>\n      <td>1.66</td>\n      <td>Male</td>\n      <td>No</td>\n      <td>Sun</td>\n      <td>Dinner</td>\n      <td>3</td>\n      <td>3.45</td>\n      <td>Douglas Tucker</td>\n      <td>4478071379779230</td>\n      <td>Sun4608</td>\n      <td>9230</td>\n      <td>$$</td>\n    </tr>\n    <tr>\n      <th>2</th>\n      <td>21.01</td>\n      <td>3.50</td>\n      <td>Male</td>\n      <td>No</td>\n      <td>Sun</td>\n      <td>Dinner</td>\n      <td>3</td>\n      <td>7.00</td>\n      <td>Travis Walters</td>\n      <td>6011812112971322</td>\n      <td>Sun4458</td>\n      <td>1322</td>\n      <td>$$</td>\n    </tr>\n    <tr>\n      <th>3</th>\n      <td>23.68</td>\n      <td>3.31</td>\n      <td>Male</td>\n      <td>No</td>\n      <td>Sun</td>\n      <td>Dinner</td>\n      <td>2</td>\n      <td>11.84</td>\n      <td>Nathaniel Harris</td>\n      <td>4676137647685994</td>\n      <td>Sun5260</td>\n      <td>5994</td>\n      <td>$$</td>\n    </tr>\n    <tr>\n      <th>4</th>\n      <td>24.59</td>\n      <td>3.61</td>\n      <td>Female</td>\n      <td>No</td>\n      <td>Sun</td>\n      <td>Dinner</td>\n      <td>4</td>\n      <td>6.15</td>\n      <td>Tonya Carter</td>\n      <td>4832732618637221</td>\n      <td>Sun2251</td>\n      <td>7221</td>\n      <td>$$</td>\n    </tr>\n  </tbody>\n</table>\n</div>"
          },
          "metadata": {}
        }
      ],
      "execution_count": 41
    },
    {
      "cell_type": "code",
      "source": "#NB :- custom funct must return only single value & not entire column , since it is going to be one single value per row",
      "metadata": {
        "trusted": true
      },
      "outputs": [],
      "execution_count": 42
    },
    {
      "cell_type": "markdown",
      "source": "# Apply Methods on multiple columns",
      "metadata": {}
    },
    {
      "cell_type": "code",
      "source": "## i.e our custom fuct can also take in multiple inputs & apply on multiple column\n\n# Lamda expression --> quick anonymous expression we can use instead of simple function\n\ndef simple(num):       # simple python funct\n    return num * 2\n\nsimple(2)",
      "metadata": {
        "trusted": true
      },
      "outputs": [
        {
          "execution_count": 2,
          "output_type": "execute_result",
          "data": {
            "text/plain": "4"
          },
          "metadata": {}
        }
      ],
      "execution_count": 2
    },
    {
      "cell_type": "code",
      "source": "lambda num: num * 2  # lamda expression of simple fuction ---> NB: not all function can be converted to lambda expression, eg - complex ones",
      "metadata": {
        "trusted": true
      },
      "outputs": [
        {
          "execution_count": 6,
          "output_type": "execute_result",
          "data": {
            "text/plain": "<function __main__.<lambda>(num)>"
          },
          "metadata": {}
        }
      ],
      "execution_count": 6
    },
    {
      "cell_type": "code",
      "source": "df.head()",
      "metadata": {
        "trusted": true
      },
      "outputs": [
        {
          "execution_count": 10,
          "output_type": "execute_result",
          "data": {
            "text/plain": "   total_bill   tip     sex smoker  day    time  size  price_per_person  \\\n0       16.99  1.01  Female     No  Sun  Dinner     2              8.49   \n1       10.34  1.66    Male     No  Sun  Dinner     3              3.45   \n2       21.01  3.50    Male     No  Sun  Dinner     3              7.00   \n3       23.68  3.31    Male     No  Sun  Dinner     2             11.84   \n4       24.59  3.61  Female     No  Sun  Dinner     4              6.15   \n\n           Payer Name         CC Number Payment ID  \n0  Christy Cunningham  3560325168603410    Sun2959  \n1      Douglas Tucker  4478071379779230    Sun4608  \n2      Travis Walters  6011812112971322    Sun4458  \n3    Nathaniel Harris  4676137647685994    Sun5260  \n4        Tonya Carter  4832732618637221    Sun2251  ",
            "text/html": "<div>\n<style scoped>\n    .dataframe tbody tr th:only-of-type {\n        vertical-align: middle;\n    }\n\n    .dataframe tbody tr th {\n        vertical-align: top;\n    }\n\n    .dataframe thead th {\n        text-align: right;\n    }\n</style>\n<table border=\"1\" class=\"dataframe\">\n  <thead>\n    <tr style=\"text-align: right;\">\n      <th></th>\n      <th>total_bill</th>\n      <th>tip</th>\n      <th>sex</th>\n      <th>smoker</th>\n      <th>day</th>\n      <th>time</th>\n      <th>size</th>\n      <th>price_per_person</th>\n      <th>Payer Name</th>\n      <th>CC Number</th>\n      <th>Payment ID</th>\n    </tr>\n  </thead>\n  <tbody>\n    <tr>\n      <th>0</th>\n      <td>16.99</td>\n      <td>1.01</td>\n      <td>Female</td>\n      <td>No</td>\n      <td>Sun</td>\n      <td>Dinner</td>\n      <td>2</td>\n      <td>8.49</td>\n      <td>Christy Cunningham</td>\n      <td>3560325168603410</td>\n      <td>Sun2959</td>\n    </tr>\n    <tr>\n      <th>1</th>\n      <td>10.34</td>\n      <td>1.66</td>\n      <td>Male</td>\n      <td>No</td>\n      <td>Sun</td>\n      <td>Dinner</td>\n      <td>3</td>\n      <td>3.45</td>\n      <td>Douglas Tucker</td>\n      <td>4478071379779230</td>\n      <td>Sun4608</td>\n    </tr>\n    <tr>\n      <th>2</th>\n      <td>21.01</td>\n      <td>3.50</td>\n      <td>Male</td>\n      <td>No</td>\n      <td>Sun</td>\n      <td>Dinner</td>\n      <td>3</td>\n      <td>7.00</td>\n      <td>Travis Walters</td>\n      <td>6011812112971322</td>\n      <td>Sun4458</td>\n    </tr>\n    <tr>\n      <th>3</th>\n      <td>23.68</td>\n      <td>3.31</td>\n      <td>Male</td>\n      <td>No</td>\n      <td>Sun</td>\n      <td>Dinner</td>\n      <td>2</td>\n      <td>11.84</td>\n      <td>Nathaniel Harris</td>\n      <td>4676137647685994</td>\n      <td>Sun5260</td>\n    </tr>\n    <tr>\n      <th>4</th>\n      <td>24.59</td>\n      <td>3.61</td>\n      <td>Female</td>\n      <td>No</td>\n      <td>Sun</td>\n      <td>Dinner</td>\n      <td>4</td>\n      <td>6.15</td>\n      <td>Tonya Carter</td>\n      <td>4832732618637221</td>\n      <td>Sun2251</td>\n    </tr>\n  </tbody>\n</table>\n</div>"
          },
          "metadata": {}
        }
      ],
      "execution_count": 10
    },
    {
      "cell_type": "code",
      "source": "df['total_bill'].apply(simple)  # apply simple fuct on total bill column ",
      "metadata": {
        "trusted": true
      },
      "outputs": [
        {
          "execution_count": 15,
          "output_type": "execute_result",
          "data": {
            "text/plain": "0      33.98\n1      20.68\n2      42.02\n3      47.36\n4      49.18\n       ...  \n239    58.06\n240    54.36\n241    45.34\n242    35.64\n243    37.56\nName: total_bill, Length: 244, dtype: float64"
          },
          "metadata": {}
        }
      ],
      "execution_count": 15
    },
    {
      "cell_type": "code",
      "source": "df['total_bill'].apply(lambda num: num * 2)  #apply lamda expression on total bill column whic does same thing",
      "metadata": {
        "trusted": true
      },
      "outputs": [
        {
          "execution_count": 16,
          "output_type": "execute_result",
          "data": {
            "text/plain": "0      33.98\n1      20.68\n2      42.02\n3      47.36\n4      49.18\n       ...  \n239    58.06\n240    54.36\n241    45.34\n242    35.64\n243    37.56\nName: total_bill, Length: 244, dtype: float64"
          },
          "metadata": {}
        }
      ],
      "execution_count": 16
    },
    {
      "cell_type": "code",
      "source": "# apply custom function on two column, eg- total_bill & tip to return something base on our custom func \n\ndef tiptype(total_bill, tip):  # it is recommend we take multiple inputs smae as name as the columns we want to apply --> returns genwrous or other \n    if tip / total_bill >= 0.2 :   \n        return \"generous\"     \n    else:\n        return 'other'\n\ntype(16, 1.01)",
      "metadata": {
        "trusted": true
      },
      "outputs": [
        {
          "execution_count": 32,
          "output_type": "execute_result",
          "data": {
            "text/plain": "'other'"
          },
          "metadata": {}
        }
      ],
      "execution_count": 32
    },
    {
      "cell_type": "code",
      "source": "df[['total_bill', 'tip']].apply(lambda df: tiptype(df['total_bill'], df['tip']), axis=1 ) #apply our custom funct on two columns using lambda expression ",
      "metadata": {
        "trusted": true
      },
      "outputs": [
        {
          "execution_count": 33,
          "output_type": "execute_result",
          "data": {
            "text/plain": "0         other\n1         other\n2         other\n3         other\n4         other\n         ...   \n239    generous\n240       other\n241       other\n242       other\n243       other\nLength: 244, dtype: object"
          },
          "metadata": {}
        }
      ],
      "execution_count": 33
    },
    {
      "cell_type": "code",
      "source": "df[\"Type\"] = df[['total_bill', 'tip']].apply(lambda df: type(df['total_bill'], df['tip']), axis = 1) # adding \"Type\" as permnent new column in df ",
      "metadata": {
        "trusted": true
      },
      "outputs": [],
      "execution_count": 34
    },
    {
      "cell_type": "code",
      "source": "df",
      "metadata": {
        "trusted": true
      },
      "outputs": [
        {
          "execution_count": 35,
          "output_type": "execute_result",
          "data": {
            "text/plain": "     total_bill   tip     sex smoker   day    time  size  price_per_person  \\\n0         16.99  1.01  Female     No   Sun  Dinner     2              8.49   \n1         10.34  1.66    Male     No   Sun  Dinner     3              3.45   \n2         21.01  3.50    Male     No   Sun  Dinner     3              7.00   \n3         23.68  3.31    Male     No   Sun  Dinner     2             11.84   \n4         24.59  3.61  Female     No   Sun  Dinner     4              6.15   \n..          ...   ...     ...    ...   ...     ...   ...               ...   \n239       29.03  5.92    Male     No   Sat  Dinner     3              9.68   \n240       27.18  2.00  Female    Yes   Sat  Dinner     2             13.59   \n241       22.67  2.00    Male    Yes   Sat  Dinner     2             11.34   \n242       17.82  1.75    Male     No   Sat  Dinner     2              8.91   \n243       18.78  3.00  Female     No  Thur  Dinner     2              9.39   \n\n             Payer Name         CC Number Payment ID      Type  \n0    Christy Cunningham  3560325168603410    Sun2959     other  \n1        Douglas Tucker  4478071379779230    Sun4608     other  \n2        Travis Walters  6011812112971322    Sun4458     other  \n3      Nathaniel Harris  4676137647685994    Sun5260     other  \n4          Tonya Carter  4832732618637221    Sun2251     other  \n..                  ...               ...        ...       ...  \n239       Michael Avila  5296068606052842    Sat2657  generous  \n240      Monica Sanders  3506806155565404    Sat1766     other  \n241          Keith Wong  6011891618747196    Sat3880     other  \n242        Dennis Dixon     4375220550950      Sat17     other  \n243     Michelle Hardin  3511451626698139    Thur672     other  \n\n[244 rows x 12 columns]",
            "text/html": "<div>\n<style scoped>\n    .dataframe tbody tr th:only-of-type {\n        vertical-align: middle;\n    }\n\n    .dataframe tbody tr th {\n        vertical-align: top;\n    }\n\n    .dataframe thead th {\n        text-align: right;\n    }\n</style>\n<table border=\"1\" class=\"dataframe\">\n  <thead>\n    <tr style=\"text-align: right;\">\n      <th></th>\n      <th>total_bill</th>\n      <th>tip</th>\n      <th>sex</th>\n      <th>smoker</th>\n      <th>day</th>\n      <th>time</th>\n      <th>size</th>\n      <th>price_per_person</th>\n      <th>Payer Name</th>\n      <th>CC Number</th>\n      <th>Payment ID</th>\n      <th>Type</th>\n    </tr>\n  </thead>\n  <tbody>\n    <tr>\n      <th>0</th>\n      <td>16.99</td>\n      <td>1.01</td>\n      <td>Female</td>\n      <td>No</td>\n      <td>Sun</td>\n      <td>Dinner</td>\n      <td>2</td>\n      <td>8.49</td>\n      <td>Christy Cunningham</td>\n      <td>3560325168603410</td>\n      <td>Sun2959</td>\n      <td>other</td>\n    </tr>\n    <tr>\n      <th>1</th>\n      <td>10.34</td>\n      <td>1.66</td>\n      <td>Male</td>\n      <td>No</td>\n      <td>Sun</td>\n      <td>Dinner</td>\n      <td>3</td>\n      <td>3.45</td>\n      <td>Douglas Tucker</td>\n      <td>4478071379779230</td>\n      <td>Sun4608</td>\n      <td>other</td>\n    </tr>\n    <tr>\n      <th>2</th>\n      <td>21.01</td>\n      <td>3.50</td>\n      <td>Male</td>\n      <td>No</td>\n      <td>Sun</td>\n      <td>Dinner</td>\n      <td>3</td>\n      <td>7.00</td>\n      <td>Travis Walters</td>\n      <td>6011812112971322</td>\n      <td>Sun4458</td>\n      <td>other</td>\n    </tr>\n    <tr>\n      <th>3</th>\n      <td>23.68</td>\n      <td>3.31</td>\n      <td>Male</td>\n      <td>No</td>\n      <td>Sun</td>\n      <td>Dinner</td>\n      <td>2</td>\n      <td>11.84</td>\n      <td>Nathaniel Harris</td>\n      <td>4676137647685994</td>\n      <td>Sun5260</td>\n      <td>other</td>\n    </tr>\n    <tr>\n      <th>4</th>\n      <td>24.59</td>\n      <td>3.61</td>\n      <td>Female</td>\n      <td>No</td>\n      <td>Sun</td>\n      <td>Dinner</td>\n      <td>4</td>\n      <td>6.15</td>\n      <td>Tonya Carter</td>\n      <td>4832732618637221</td>\n      <td>Sun2251</td>\n      <td>other</td>\n    </tr>\n    <tr>\n      <th>...</th>\n      <td>...</td>\n      <td>...</td>\n      <td>...</td>\n      <td>...</td>\n      <td>...</td>\n      <td>...</td>\n      <td>...</td>\n      <td>...</td>\n      <td>...</td>\n      <td>...</td>\n      <td>...</td>\n      <td>...</td>\n    </tr>\n    <tr>\n      <th>239</th>\n      <td>29.03</td>\n      <td>5.92</td>\n      <td>Male</td>\n      <td>No</td>\n      <td>Sat</td>\n      <td>Dinner</td>\n      <td>3</td>\n      <td>9.68</td>\n      <td>Michael Avila</td>\n      <td>5296068606052842</td>\n      <td>Sat2657</td>\n      <td>generous</td>\n    </tr>\n    <tr>\n      <th>240</th>\n      <td>27.18</td>\n      <td>2.00</td>\n      <td>Female</td>\n      <td>Yes</td>\n      <td>Sat</td>\n      <td>Dinner</td>\n      <td>2</td>\n      <td>13.59</td>\n      <td>Monica Sanders</td>\n      <td>3506806155565404</td>\n      <td>Sat1766</td>\n      <td>other</td>\n    </tr>\n    <tr>\n      <th>241</th>\n      <td>22.67</td>\n      <td>2.00</td>\n      <td>Male</td>\n      <td>Yes</td>\n      <td>Sat</td>\n      <td>Dinner</td>\n      <td>2</td>\n      <td>11.34</td>\n      <td>Keith Wong</td>\n      <td>6011891618747196</td>\n      <td>Sat3880</td>\n      <td>other</td>\n    </tr>\n    <tr>\n      <th>242</th>\n      <td>17.82</td>\n      <td>1.75</td>\n      <td>Male</td>\n      <td>No</td>\n      <td>Sat</td>\n      <td>Dinner</td>\n      <td>2</td>\n      <td>8.91</td>\n      <td>Dennis Dixon</td>\n      <td>4375220550950</td>\n      <td>Sat17</td>\n      <td>other</td>\n    </tr>\n    <tr>\n      <th>243</th>\n      <td>18.78</td>\n      <td>3.00</td>\n      <td>Female</td>\n      <td>No</td>\n      <td>Thur</td>\n      <td>Dinner</td>\n      <td>2</td>\n      <td>9.39</td>\n      <td>Michelle Hardin</td>\n      <td>3511451626698139</td>\n      <td>Thur672</td>\n      <td>other</td>\n    </tr>\n  </tbody>\n</table>\n<p>244 rows × 12 columns</p>\n</div>"
          },
          "metadata": {}
        }
      ],
      "execution_count": 35
    },
    {
      "cell_type": "code",
      "source": "# alternative ---> np.vectorize() numpy method instead of lambda\n\ndf[\"Type\"] = np.vectorize(tiptype)(df['total_bill'], df['tip'])  # gives us the same result",
      "metadata": {
        "trusted": true
      },
      "outputs": [],
      "execution_count": 37
    },
    {
      "cell_type": "code",
      "source": "df",
      "metadata": {
        "trusted": true
      },
      "outputs": [
        {
          "execution_count": 38,
          "output_type": "execute_result",
          "data": {
            "text/plain": "     total_bill   tip     sex smoker   day    time  size  price_per_person  \\\n0         16.99  1.01  Female     No   Sun  Dinner     2              8.49   \n1         10.34  1.66    Male     No   Sun  Dinner     3              3.45   \n2         21.01  3.50    Male     No   Sun  Dinner     3              7.00   \n3         23.68  3.31    Male     No   Sun  Dinner     2             11.84   \n4         24.59  3.61  Female     No   Sun  Dinner     4              6.15   \n..          ...   ...     ...    ...   ...     ...   ...               ...   \n239       29.03  5.92    Male     No   Sat  Dinner     3              9.68   \n240       27.18  2.00  Female    Yes   Sat  Dinner     2             13.59   \n241       22.67  2.00    Male    Yes   Sat  Dinner     2             11.34   \n242       17.82  1.75    Male     No   Sat  Dinner     2              8.91   \n243       18.78  3.00  Female     No  Thur  Dinner     2              9.39   \n\n             Payer Name         CC Number Payment ID      Type  \n0    Christy Cunningham  3560325168603410    Sun2959     other  \n1        Douglas Tucker  4478071379779230    Sun4608     other  \n2        Travis Walters  6011812112971322    Sun4458     other  \n3      Nathaniel Harris  4676137647685994    Sun5260     other  \n4          Tonya Carter  4832732618637221    Sun2251     other  \n..                  ...               ...        ...       ...  \n239       Michael Avila  5296068606052842    Sat2657  generous  \n240      Monica Sanders  3506806155565404    Sat1766     other  \n241          Keith Wong  6011891618747196    Sat3880     other  \n242        Dennis Dixon     4375220550950      Sat17     other  \n243     Michelle Hardin  3511451626698139    Thur672     other  \n\n[244 rows x 12 columns]",
            "text/html": "<div>\n<style scoped>\n    .dataframe tbody tr th:only-of-type {\n        vertical-align: middle;\n    }\n\n    .dataframe tbody tr th {\n        vertical-align: top;\n    }\n\n    .dataframe thead th {\n        text-align: right;\n    }\n</style>\n<table border=\"1\" class=\"dataframe\">\n  <thead>\n    <tr style=\"text-align: right;\">\n      <th></th>\n      <th>total_bill</th>\n      <th>tip</th>\n      <th>sex</th>\n      <th>smoker</th>\n      <th>day</th>\n      <th>time</th>\n      <th>size</th>\n      <th>price_per_person</th>\n      <th>Payer Name</th>\n      <th>CC Number</th>\n      <th>Payment ID</th>\n      <th>Type</th>\n    </tr>\n  </thead>\n  <tbody>\n    <tr>\n      <th>0</th>\n      <td>16.99</td>\n      <td>1.01</td>\n      <td>Female</td>\n      <td>No</td>\n      <td>Sun</td>\n      <td>Dinner</td>\n      <td>2</td>\n      <td>8.49</td>\n      <td>Christy Cunningham</td>\n      <td>3560325168603410</td>\n      <td>Sun2959</td>\n      <td>other</td>\n    </tr>\n    <tr>\n      <th>1</th>\n      <td>10.34</td>\n      <td>1.66</td>\n      <td>Male</td>\n      <td>No</td>\n      <td>Sun</td>\n      <td>Dinner</td>\n      <td>3</td>\n      <td>3.45</td>\n      <td>Douglas Tucker</td>\n      <td>4478071379779230</td>\n      <td>Sun4608</td>\n      <td>other</td>\n    </tr>\n    <tr>\n      <th>2</th>\n      <td>21.01</td>\n      <td>3.50</td>\n      <td>Male</td>\n      <td>No</td>\n      <td>Sun</td>\n      <td>Dinner</td>\n      <td>3</td>\n      <td>7.00</td>\n      <td>Travis Walters</td>\n      <td>6011812112971322</td>\n      <td>Sun4458</td>\n      <td>other</td>\n    </tr>\n    <tr>\n      <th>3</th>\n      <td>23.68</td>\n      <td>3.31</td>\n      <td>Male</td>\n      <td>No</td>\n      <td>Sun</td>\n      <td>Dinner</td>\n      <td>2</td>\n      <td>11.84</td>\n      <td>Nathaniel Harris</td>\n      <td>4676137647685994</td>\n      <td>Sun5260</td>\n      <td>other</td>\n    </tr>\n    <tr>\n      <th>4</th>\n      <td>24.59</td>\n      <td>3.61</td>\n      <td>Female</td>\n      <td>No</td>\n      <td>Sun</td>\n      <td>Dinner</td>\n      <td>4</td>\n      <td>6.15</td>\n      <td>Tonya Carter</td>\n      <td>4832732618637221</td>\n      <td>Sun2251</td>\n      <td>other</td>\n    </tr>\n    <tr>\n      <th>...</th>\n      <td>...</td>\n      <td>...</td>\n      <td>...</td>\n      <td>...</td>\n      <td>...</td>\n      <td>...</td>\n      <td>...</td>\n      <td>...</td>\n      <td>...</td>\n      <td>...</td>\n      <td>...</td>\n      <td>...</td>\n    </tr>\n    <tr>\n      <th>239</th>\n      <td>29.03</td>\n      <td>5.92</td>\n      <td>Male</td>\n      <td>No</td>\n      <td>Sat</td>\n      <td>Dinner</td>\n      <td>3</td>\n      <td>9.68</td>\n      <td>Michael Avila</td>\n      <td>5296068606052842</td>\n      <td>Sat2657</td>\n      <td>generous</td>\n    </tr>\n    <tr>\n      <th>240</th>\n      <td>27.18</td>\n      <td>2.00</td>\n      <td>Female</td>\n      <td>Yes</td>\n      <td>Sat</td>\n      <td>Dinner</td>\n      <td>2</td>\n      <td>13.59</td>\n      <td>Monica Sanders</td>\n      <td>3506806155565404</td>\n      <td>Sat1766</td>\n      <td>other</td>\n    </tr>\n    <tr>\n      <th>241</th>\n      <td>22.67</td>\n      <td>2.00</td>\n      <td>Male</td>\n      <td>Yes</td>\n      <td>Sat</td>\n      <td>Dinner</td>\n      <td>2</td>\n      <td>11.34</td>\n      <td>Keith Wong</td>\n      <td>6011891618747196</td>\n      <td>Sat3880</td>\n      <td>other</td>\n    </tr>\n    <tr>\n      <th>242</th>\n      <td>17.82</td>\n      <td>1.75</td>\n      <td>Male</td>\n      <td>No</td>\n      <td>Sat</td>\n      <td>Dinner</td>\n      <td>2</td>\n      <td>8.91</td>\n      <td>Dennis Dixon</td>\n      <td>4375220550950</td>\n      <td>Sat17</td>\n      <td>other</td>\n    </tr>\n    <tr>\n      <th>243</th>\n      <td>18.78</td>\n      <td>3.00</td>\n      <td>Female</td>\n      <td>No</td>\n      <td>Thur</td>\n      <td>Dinner</td>\n      <td>2</td>\n      <td>9.39</td>\n      <td>Michelle Hardin</td>\n      <td>3511451626698139</td>\n      <td>Thur672</td>\n      <td>other</td>\n    </tr>\n  </tbody>\n</table>\n<p>244 rows × 12 columns</p>\n</div>"
          },
          "metadata": {}
        }
      ],
      "execution_count": 38
    },
    {
      "cell_type": "code",
      "source": "# performancs test : lambda v/s np.vectorize\n\nimport timeit\n\n# code snippet to be executed only once \nsetup = '''\nimport numpy as np\nimport pandas as pd\ndf = pd.read_csv('tips.csv')\ndef quality(total_bill,tip):\n    if tip/total_bill  > 0.25:\n        return \"Generous\"\n    else:\n        return \"Other\"\n'''\n  \n# code snippet whose execution time is to be measured \nstmt_one = ''' \ndf['Tip Quality'] = df[['total_bill','tip']].apply(lambda df: quality(df['total_bill'],df['tip']),axis=1)\n'''\n\nstmt_two = '''\ndf['Tip Quality'] = np.vectorize(quality)(df['total_bill'], df['tip'])\n'''",
      "metadata": {
        "trusted": true
      },
      "outputs": [],
      "execution_count": 2
    },
    {
      "cell_type": "code",
      "source": "timeit.timeit(setup= setup, stmt=stmt_one, number=1000)  # lamda expression ",
      "metadata": {
        "trusted": true
      },
      "outputs": [
        {
          "execution_count": 11,
          "output_type": "execute_result",
          "data": {
            "text/plain": "2.2794000000000096"
          },
          "metadata": {}
        }
      ],
      "execution_count": 11
    },
    {
      "cell_type": "code",
      "source": "timeit.timeit(setup=setup, stmt=stmt_two, number=1000) # np.vectorize",
      "metadata": {
        "trusted": true
      },
      "outputs": [
        {
          "execution_count": 13,
          "output_type": "execute_result",
          "data": {
            "text/plain": "0.24310000100001616"
          },
          "metadata": {}
        }
      ],
      "execution_count": 13
    },
    {
      "cell_type": "markdown",
      "source": "## Describing & Sorting in pandas series & dataframe",
      "metadata": {}
    },
    {
      "cell_type": "code",
      "source": "# .describe() -- > returns statistic info of pandas dataframe\ndf = pd.read_csv('tips.csv')",
      "metadata": {
        "trusted": true
      },
      "outputs": [],
      "execution_count": 16
    },
    {
      "cell_type": "code",
      "source": "df.describe()  #NB :- some statis info dont make sense, eg- mean of CC (credit card) number",
      "metadata": {
        "trusted": true
      },
      "outputs": [
        {
          "execution_count": 18,
          "output_type": "execute_result",
          "data": {
            "text/plain": "       total_bill         tip        size  price_per_person     CC Number\ncount  244.000000  244.000000  244.000000        244.000000  2.440000e+02\nmean    19.785943    2.998279    2.569672          7.888197  2.563496e+15\nstd      8.902412    1.383638    0.951100          2.914234  2.369340e+15\nmin      3.070000    1.000000    1.000000          2.880000  6.040679e+10\n25%     13.347500    2.000000    2.000000          5.800000  3.040731e+13\n50%     17.795000    2.900000    2.000000          7.255000  3.525318e+15\n75%     24.127500    3.562500    3.000000          9.390000  4.553675e+15\nmax     50.810000   10.000000    6.000000         20.270000  6.596454e+15",
            "text/html": "<div>\n<style scoped>\n    .dataframe tbody tr th:only-of-type {\n        vertical-align: middle;\n    }\n\n    .dataframe tbody tr th {\n        vertical-align: top;\n    }\n\n    .dataframe thead th {\n        text-align: right;\n    }\n</style>\n<table border=\"1\" class=\"dataframe\">\n  <thead>\n    <tr style=\"text-align: right;\">\n      <th></th>\n      <th>total_bill</th>\n      <th>tip</th>\n      <th>size</th>\n      <th>price_per_person</th>\n      <th>CC Number</th>\n    </tr>\n  </thead>\n  <tbody>\n    <tr>\n      <th>count</th>\n      <td>244.000000</td>\n      <td>244.000000</td>\n      <td>244.000000</td>\n      <td>244.000000</td>\n      <td>2.440000e+02</td>\n    </tr>\n    <tr>\n      <th>mean</th>\n      <td>19.785943</td>\n      <td>2.998279</td>\n      <td>2.569672</td>\n      <td>7.888197</td>\n      <td>2.563496e+15</td>\n    </tr>\n    <tr>\n      <th>std</th>\n      <td>8.902412</td>\n      <td>1.383638</td>\n      <td>0.951100</td>\n      <td>2.914234</td>\n      <td>2.369340e+15</td>\n    </tr>\n    <tr>\n      <th>min</th>\n      <td>3.070000</td>\n      <td>1.000000</td>\n      <td>1.000000</td>\n      <td>2.880000</td>\n      <td>6.040679e+10</td>\n    </tr>\n    <tr>\n      <th>25%</th>\n      <td>13.347500</td>\n      <td>2.000000</td>\n      <td>2.000000</td>\n      <td>5.800000</td>\n      <td>3.040731e+13</td>\n    </tr>\n    <tr>\n      <th>50%</th>\n      <td>17.795000</td>\n      <td>2.900000</td>\n      <td>2.000000</td>\n      <td>7.255000</td>\n      <td>3.525318e+15</td>\n    </tr>\n    <tr>\n      <th>75%</th>\n      <td>24.127500</td>\n      <td>3.562500</td>\n      <td>3.000000</td>\n      <td>9.390000</td>\n      <td>4.553675e+15</td>\n    </tr>\n    <tr>\n      <th>max</th>\n      <td>50.810000</td>\n      <td>10.000000</td>\n      <td>6.000000</td>\n      <td>20.270000</td>\n      <td>6.596454e+15</td>\n    </tr>\n  </tbody>\n</table>\n</div>"
          },
          "metadata": {}
        }
      ],
      "execution_count": 18
    },
    {
      "cell_type": "code",
      "source": "df.describe().transpose() # returns column as row index",
      "metadata": {
        "trusted": true
      },
      "outputs": [
        {
          "execution_count": 21,
          "output_type": "execute_result",
          "data": {
            "text/plain": "                  count          mean           std           min  \\\ntotal_bill        244.0  1.978594e+01  8.902412e+00  3.070000e+00   \ntip               244.0  2.998279e+00  1.383638e+00  1.000000e+00   \nsize              244.0  2.569672e+00  9.510998e-01  1.000000e+00   \nprice_per_person  244.0  7.888197e+00  2.914234e+00  2.880000e+00   \nCC Number         244.0  2.563496e+15  2.369340e+15  6.040679e+10   \n\n                           25%           50%           75%           max  \ntotal_bill        1.334750e+01  1.779500e+01  2.412750e+01  5.081000e+01  \ntip               2.000000e+00  2.900000e+00  3.562500e+00  1.000000e+01  \nsize              2.000000e+00  2.000000e+00  3.000000e+00  6.000000e+00  \nprice_per_person  5.800000e+00  7.255000e+00  9.390000e+00  2.027000e+01  \nCC Number         3.040731e+13  3.525318e+15  4.553675e+15  6.596454e+15  ",
            "text/html": "<div>\n<style scoped>\n    .dataframe tbody tr th:only-of-type {\n        vertical-align: middle;\n    }\n\n    .dataframe tbody tr th {\n        vertical-align: top;\n    }\n\n    .dataframe thead th {\n        text-align: right;\n    }\n</style>\n<table border=\"1\" class=\"dataframe\">\n  <thead>\n    <tr style=\"text-align: right;\">\n      <th></th>\n      <th>count</th>\n      <th>mean</th>\n      <th>std</th>\n      <th>min</th>\n      <th>25%</th>\n      <th>50%</th>\n      <th>75%</th>\n      <th>max</th>\n    </tr>\n  </thead>\n  <tbody>\n    <tr>\n      <th>total_bill</th>\n      <td>244.0</td>\n      <td>1.978594e+01</td>\n      <td>8.902412e+00</td>\n      <td>3.070000e+00</td>\n      <td>1.334750e+01</td>\n      <td>1.779500e+01</td>\n      <td>2.412750e+01</td>\n      <td>5.081000e+01</td>\n    </tr>\n    <tr>\n      <th>tip</th>\n      <td>244.0</td>\n      <td>2.998279e+00</td>\n      <td>1.383638e+00</td>\n      <td>1.000000e+00</td>\n      <td>2.000000e+00</td>\n      <td>2.900000e+00</td>\n      <td>3.562500e+00</td>\n      <td>1.000000e+01</td>\n    </tr>\n    <tr>\n      <th>size</th>\n      <td>244.0</td>\n      <td>2.569672e+00</td>\n      <td>9.510998e-01</td>\n      <td>1.000000e+00</td>\n      <td>2.000000e+00</td>\n      <td>2.000000e+00</td>\n      <td>3.000000e+00</td>\n      <td>6.000000e+00</td>\n    </tr>\n    <tr>\n      <th>price_per_person</th>\n      <td>244.0</td>\n      <td>7.888197e+00</td>\n      <td>2.914234e+00</td>\n      <td>2.880000e+00</td>\n      <td>5.800000e+00</td>\n      <td>7.255000e+00</td>\n      <td>9.390000e+00</td>\n      <td>2.027000e+01</td>\n    </tr>\n    <tr>\n      <th>CC Number</th>\n      <td>244.0</td>\n      <td>2.563496e+15</td>\n      <td>2.369340e+15</td>\n      <td>6.040679e+10</td>\n      <td>3.040731e+13</td>\n      <td>3.525318e+15</td>\n      <td>4.553675e+15</td>\n      <td>6.596454e+15</td>\n    </tr>\n  </tbody>\n</table>\n</div>"
          },
          "metadata": {}
        }
      ],
      "execution_count": 21
    },
    {
      "cell_type": "code",
      "source": "# Sorting in pandas series df\ndf.sort_values('tip')  # default ascending --> lowest to highest ",
      "metadata": {
        "trusted": true
      },
      "outputs": [
        {
          "execution_count": 24,
          "output_type": "execute_result",
          "data": {
            "text/plain": "     total_bill    tip     sex smoker   day    time  size  price_per_person  \\\n67         3.07   1.00  Female    Yes   Sat  Dinner     1              3.07   \n236       12.60   1.00    Male    Yes   Sat  Dinner     2              6.30   \n92         5.75   1.00  Female    Yes   Fri  Dinner     2              2.88   \n111        7.25   1.00  Female     No   Sat  Dinner     1              7.25   \n0         16.99   1.01  Female     No   Sun  Dinner     2              8.49   \n..          ...    ...     ...    ...   ...     ...   ...               ...   \n141       34.30   6.70    Male     No  Thur   Lunch     6              5.72   \n59        48.27   6.73    Male     No   Sat  Dinner     4             12.07   \n23        39.42   7.58    Male     No   Sat  Dinner     4              9.86   \n212       48.33   9.00    Male     No   Sat  Dinner     4             12.08   \n170       50.81  10.00    Male    Yes   Sat  Dinner     3             16.94   \n\n             Payer Name         CC Number Payment ID  \n67        Tiffany Brock  4359488526995267    Sat3455  \n236       Matthew Myers  3543676378973965    Sat5032  \n92         Leah Ramirez  3508911676966392    Fri3780  \n111         Terri Jones  3559221007826887    Sat4801  \n0    Christy Cunningham  3560325168603410    Sun2959  \n..                  ...               ...        ...  \n141      Steven Carlson  3526515703718508   Thur1025  \n59          Brian Ortiz  6596453823950595    Sat8139  \n23       Lance Peterson  3542584061609808     Sat239  \n212     Alex Williamson      676218815212    Sat4590  \n170       Gregory Clark  5473850968388236    Sat1954  \n\n[244 rows x 11 columns]",
            "text/html": "<div>\n<style scoped>\n    .dataframe tbody tr th:only-of-type {\n        vertical-align: middle;\n    }\n\n    .dataframe tbody tr th {\n        vertical-align: top;\n    }\n\n    .dataframe thead th {\n        text-align: right;\n    }\n</style>\n<table border=\"1\" class=\"dataframe\">\n  <thead>\n    <tr style=\"text-align: right;\">\n      <th></th>\n      <th>total_bill</th>\n      <th>tip</th>\n      <th>sex</th>\n      <th>smoker</th>\n      <th>day</th>\n      <th>time</th>\n      <th>size</th>\n      <th>price_per_person</th>\n      <th>Payer Name</th>\n      <th>CC Number</th>\n      <th>Payment ID</th>\n    </tr>\n  </thead>\n  <tbody>\n    <tr>\n      <th>67</th>\n      <td>3.07</td>\n      <td>1.00</td>\n      <td>Female</td>\n      <td>Yes</td>\n      <td>Sat</td>\n      <td>Dinner</td>\n      <td>1</td>\n      <td>3.07</td>\n      <td>Tiffany Brock</td>\n      <td>4359488526995267</td>\n      <td>Sat3455</td>\n    </tr>\n    <tr>\n      <th>236</th>\n      <td>12.60</td>\n      <td>1.00</td>\n      <td>Male</td>\n      <td>Yes</td>\n      <td>Sat</td>\n      <td>Dinner</td>\n      <td>2</td>\n      <td>6.30</td>\n      <td>Matthew Myers</td>\n      <td>3543676378973965</td>\n      <td>Sat5032</td>\n    </tr>\n    <tr>\n      <th>92</th>\n      <td>5.75</td>\n      <td>1.00</td>\n      <td>Female</td>\n      <td>Yes</td>\n      <td>Fri</td>\n      <td>Dinner</td>\n      <td>2</td>\n      <td>2.88</td>\n      <td>Leah Ramirez</td>\n      <td>3508911676966392</td>\n      <td>Fri3780</td>\n    </tr>\n    <tr>\n      <th>111</th>\n      <td>7.25</td>\n      <td>1.00</td>\n      <td>Female</td>\n      <td>No</td>\n      <td>Sat</td>\n      <td>Dinner</td>\n      <td>1</td>\n      <td>7.25</td>\n      <td>Terri Jones</td>\n      <td>3559221007826887</td>\n      <td>Sat4801</td>\n    </tr>\n    <tr>\n      <th>0</th>\n      <td>16.99</td>\n      <td>1.01</td>\n      <td>Female</td>\n      <td>No</td>\n      <td>Sun</td>\n      <td>Dinner</td>\n      <td>2</td>\n      <td>8.49</td>\n      <td>Christy Cunningham</td>\n      <td>3560325168603410</td>\n      <td>Sun2959</td>\n    </tr>\n    <tr>\n      <th>...</th>\n      <td>...</td>\n      <td>...</td>\n      <td>...</td>\n      <td>...</td>\n      <td>...</td>\n      <td>...</td>\n      <td>...</td>\n      <td>...</td>\n      <td>...</td>\n      <td>...</td>\n      <td>...</td>\n    </tr>\n    <tr>\n      <th>141</th>\n      <td>34.30</td>\n      <td>6.70</td>\n      <td>Male</td>\n      <td>No</td>\n      <td>Thur</td>\n      <td>Lunch</td>\n      <td>6</td>\n      <td>5.72</td>\n      <td>Steven Carlson</td>\n      <td>3526515703718508</td>\n      <td>Thur1025</td>\n    </tr>\n    <tr>\n      <th>59</th>\n      <td>48.27</td>\n      <td>6.73</td>\n      <td>Male</td>\n      <td>No</td>\n      <td>Sat</td>\n      <td>Dinner</td>\n      <td>4</td>\n      <td>12.07</td>\n      <td>Brian Ortiz</td>\n      <td>6596453823950595</td>\n      <td>Sat8139</td>\n    </tr>\n    <tr>\n      <th>23</th>\n      <td>39.42</td>\n      <td>7.58</td>\n      <td>Male</td>\n      <td>No</td>\n      <td>Sat</td>\n      <td>Dinner</td>\n      <td>4</td>\n      <td>9.86</td>\n      <td>Lance Peterson</td>\n      <td>3542584061609808</td>\n      <td>Sat239</td>\n    </tr>\n    <tr>\n      <th>212</th>\n      <td>48.33</td>\n      <td>9.00</td>\n      <td>Male</td>\n      <td>No</td>\n      <td>Sat</td>\n      <td>Dinner</td>\n      <td>4</td>\n      <td>12.08</td>\n      <td>Alex Williamson</td>\n      <td>676218815212</td>\n      <td>Sat4590</td>\n    </tr>\n    <tr>\n      <th>170</th>\n      <td>50.81</td>\n      <td>10.00</td>\n      <td>Male</td>\n      <td>Yes</td>\n      <td>Sat</td>\n      <td>Dinner</td>\n      <td>3</td>\n      <td>16.94</td>\n      <td>Gregory Clark</td>\n      <td>5473850968388236</td>\n      <td>Sat1954</td>\n    </tr>\n  </tbody>\n</table>\n<p>244 rows × 11 columns</p>\n</div>"
          },
          "metadata": {}
        }
      ],
      "execution_count": 24
    },
    {
      "cell_type": "code",
      "source": "df.sort_values('tip', ascending=False)  # highest to lowest ",
      "metadata": {
        "trusted": true
      },
      "outputs": [
        {
          "execution_count": 25,
          "output_type": "execute_result",
          "data": {
            "text/plain": "     total_bill    tip     sex smoker   day    time  size  price_per_person  \\\n170       50.81  10.00    Male    Yes   Sat  Dinner     3             16.94   \n212       48.33   9.00    Male     No   Sat  Dinner     4             12.08   \n23        39.42   7.58    Male     No   Sat  Dinner     4              9.86   \n59        48.27   6.73    Male     No   Sat  Dinner     4             12.07   \n141       34.30   6.70    Male     No  Thur   Lunch     6              5.72   \n..          ...    ...     ...    ...   ...     ...   ...               ...   \n0         16.99   1.01  Female     No   Sun  Dinner     2              8.49   \n236       12.60   1.00    Male    Yes   Sat  Dinner     2              6.30   \n111        7.25   1.00  Female     No   Sat  Dinner     1              7.25   \n67         3.07   1.00  Female    Yes   Sat  Dinner     1              3.07   \n92         5.75   1.00  Female    Yes   Fri  Dinner     2              2.88   \n\n             Payer Name         CC Number Payment ID  \n170       Gregory Clark  5473850968388236    Sat1954  \n212     Alex Williamson      676218815212    Sat4590  \n23       Lance Peterson  3542584061609808     Sat239  \n59          Brian Ortiz  6596453823950595    Sat8139  \n141      Steven Carlson  3526515703718508   Thur1025  \n..                  ...               ...        ...  \n0    Christy Cunningham  3560325168603410    Sun2959  \n236       Matthew Myers  3543676378973965    Sat5032  \n111         Terri Jones  3559221007826887    Sat4801  \n67        Tiffany Brock  4359488526995267    Sat3455  \n92         Leah Ramirez  3508911676966392    Fri3780  \n\n[244 rows x 11 columns]",
            "text/html": "<div>\n<style scoped>\n    .dataframe tbody tr th:only-of-type {\n        vertical-align: middle;\n    }\n\n    .dataframe tbody tr th {\n        vertical-align: top;\n    }\n\n    .dataframe thead th {\n        text-align: right;\n    }\n</style>\n<table border=\"1\" class=\"dataframe\">\n  <thead>\n    <tr style=\"text-align: right;\">\n      <th></th>\n      <th>total_bill</th>\n      <th>tip</th>\n      <th>sex</th>\n      <th>smoker</th>\n      <th>day</th>\n      <th>time</th>\n      <th>size</th>\n      <th>price_per_person</th>\n      <th>Payer Name</th>\n      <th>CC Number</th>\n      <th>Payment ID</th>\n    </tr>\n  </thead>\n  <tbody>\n    <tr>\n      <th>170</th>\n      <td>50.81</td>\n      <td>10.00</td>\n      <td>Male</td>\n      <td>Yes</td>\n      <td>Sat</td>\n      <td>Dinner</td>\n      <td>3</td>\n      <td>16.94</td>\n      <td>Gregory Clark</td>\n      <td>5473850968388236</td>\n      <td>Sat1954</td>\n    </tr>\n    <tr>\n      <th>212</th>\n      <td>48.33</td>\n      <td>9.00</td>\n      <td>Male</td>\n      <td>No</td>\n      <td>Sat</td>\n      <td>Dinner</td>\n      <td>4</td>\n      <td>12.08</td>\n      <td>Alex Williamson</td>\n      <td>676218815212</td>\n      <td>Sat4590</td>\n    </tr>\n    <tr>\n      <th>23</th>\n      <td>39.42</td>\n      <td>7.58</td>\n      <td>Male</td>\n      <td>No</td>\n      <td>Sat</td>\n      <td>Dinner</td>\n      <td>4</td>\n      <td>9.86</td>\n      <td>Lance Peterson</td>\n      <td>3542584061609808</td>\n      <td>Sat239</td>\n    </tr>\n    <tr>\n      <th>59</th>\n      <td>48.27</td>\n      <td>6.73</td>\n      <td>Male</td>\n      <td>No</td>\n      <td>Sat</td>\n      <td>Dinner</td>\n      <td>4</td>\n      <td>12.07</td>\n      <td>Brian Ortiz</td>\n      <td>6596453823950595</td>\n      <td>Sat8139</td>\n    </tr>\n    <tr>\n      <th>141</th>\n      <td>34.30</td>\n      <td>6.70</td>\n      <td>Male</td>\n      <td>No</td>\n      <td>Thur</td>\n      <td>Lunch</td>\n      <td>6</td>\n      <td>5.72</td>\n      <td>Steven Carlson</td>\n      <td>3526515703718508</td>\n      <td>Thur1025</td>\n    </tr>\n    <tr>\n      <th>...</th>\n      <td>...</td>\n      <td>...</td>\n      <td>...</td>\n      <td>...</td>\n      <td>...</td>\n      <td>...</td>\n      <td>...</td>\n      <td>...</td>\n      <td>...</td>\n      <td>...</td>\n      <td>...</td>\n    </tr>\n    <tr>\n      <th>0</th>\n      <td>16.99</td>\n      <td>1.01</td>\n      <td>Female</td>\n      <td>No</td>\n      <td>Sun</td>\n      <td>Dinner</td>\n      <td>2</td>\n      <td>8.49</td>\n      <td>Christy Cunningham</td>\n      <td>3560325168603410</td>\n      <td>Sun2959</td>\n    </tr>\n    <tr>\n      <th>236</th>\n      <td>12.60</td>\n      <td>1.00</td>\n      <td>Male</td>\n      <td>Yes</td>\n      <td>Sat</td>\n      <td>Dinner</td>\n      <td>2</td>\n      <td>6.30</td>\n      <td>Matthew Myers</td>\n      <td>3543676378973965</td>\n      <td>Sat5032</td>\n    </tr>\n    <tr>\n      <th>111</th>\n      <td>7.25</td>\n      <td>1.00</td>\n      <td>Female</td>\n      <td>No</td>\n      <td>Sat</td>\n      <td>Dinner</td>\n      <td>1</td>\n      <td>7.25</td>\n      <td>Terri Jones</td>\n      <td>3559221007826887</td>\n      <td>Sat4801</td>\n    </tr>\n    <tr>\n      <th>67</th>\n      <td>3.07</td>\n      <td>1.00</td>\n      <td>Female</td>\n      <td>Yes</td>\n      <td>Sat</td>\n      <td>Dinner</td>\n      <td>1</td>\n      <td>3.07</td>\n      <td>Tiffany Brock</td>\n      <td>4359488526995267</td>\n      <td>Sat3455</td>\n    </tr>\n    <tr>\n      <th>92</th>\n      <td>5.75</td>\n      <td>1.00</td>\n      <td>Female</td>\n      <td>Yes</td>\n      <td>Fri</td>\n      <td>Dinner</td>\n      <td>2</td>\n      <td>2.88</td>\n      <td>Leah Ramirez</td>\n      <td>3508911676966392</td>\n      <td>Fri3780</td>\n    </tr>\n  </tbody>\n</table>\n<p>244 rows × 11 columns</p>\n</div>"
          },
          "metadata": {}
        }
      ],
      "execution_count": 25
    },
    {
      "cell_type": "code",
      "source": "# sort by more than one column\ndf.sort_values(['tip', 'size'])  # sort it by tip fisrt & then size",
      "metadata": {
        "trusted": true
      },
      "outputs": [
        {
          "execution_count": 26,
          "output_type": "execute_result",
          "data": {
            "text/plain": "     total_bill    tip     sex smoker   day    time  size  price_per_person  \\\n67         3.07   1.00  Female    Yes   Sat  Dinner     1              3.07   \n111        7.25   1.00  Female     No   Sat  Dinner     1              7.25   \n92         5.75   1.00  Female    Yes   Fri  Dinner     2              2.88   \n236       12.60   1.00    Male    Yes   Sat  Dinner     2              6.30   \n0         16.99   1.01  Female     No   Sun  Dinner     2              8.49   \n..          ...    ...     ...    ...   ...     ...   ...               ...   \n141       34.30   6.70    Male     No  Thur   Lunch     6              5.72   \n59        48.27   6.73    Male     No   Sat  Dinner     4             12.07   \n23        39.42   7.58    Male     No   Sat  Dinner     4              9.86   \n212       48.33   9.00    Male     No   Sat  Dinner     4             12.08   \n170       50.81  10.00    Male    Yes   Sat  Dinner     3             16.94   \n\n             Payer Name         CC Number Payment ID  \n67        Tiffany Brock  4359488526995267    Sat3455  \n111         Terri Jones  3559221007826887    Sat4801  \n92         Leah Ramirez  3508911676966392    Fri3780  \n236       Matthew Myers  3543676378973965    Sat5032  \n0    Christy Cunningham  3560325168603410    Sun2959  \n..                  ...               ...        ...  \n141      Steven Carlson  3526515703718508   Thur1025  \n59          Brian Ortiz  6596453823950595    Sat8139  \n23       Lance Peterson  3542584061609808     Sat239  \n212     Alex Williamson      676218815212    Sat4590  \n170       Gregory Clark  5473850968388236    Sat1954  \n\n[244 rows x 11 columns]",
            "text/html": "<div>\n<style scoped>\n    .dataframe tbody tr th:only-of-type {\n        vertical-align: middle;\n    }\n\n    .dataframe tbody tr th {\n        vertical-align: top;\n    }\n\n    .dataframe thead th {\n        text-align: right;\n    }\n</style>\n<table border=\"1\" class=\"dataframe\">\n  <thead>\n    <tr style=\"text-align: right;\">\n      <th></th>\n      <th>total_bill</th>\n      <th>tip</th>\n      <th>sex</th>\n      <th>smoker</th>\n      <th>day</th>\n      <th>time</th>\n      <th>size</th>\n      <th>price_per_person</th>\n      <th>Payer Name</th>\n      <th>CC Number</th>\n      <th>Payment ID</th>\n    </tr>\n  </thead>\n  <tbody>\n    <tr>\n      <th>67</th>\n      <td>3.07</td>\n      <td>1.00</td>\n      <td>Female</td>\n      <td>Yes</td>\n      <td>Sat</td>\n      <td>Dinner</td>\n      <td>1</td>\n      <td>3.07</td>\n      <td>Tiffany Brock</td>\n      <td>4359488526995267</td>\n      <td>Sat3455</td>\n    </tr>\n    <tr>\n      <th>111</th>\n      <td>7.25</td>\n      <td>1.00</td>\n      <td>Female</td>\n      <td>No</td>\n      <td>Sat</td>\n      <td>Dinner</td>\n      <td>1</td>\n      <td>7.25</td>\n      <td>Terri Jones</td>\n      <td>3559221007826887</td>\n      <td>Sat4801</td>\n    </tr>\n    <tr>\n      <th>92</th>\n      <td>5.75</td>\n      <td>1.00</td>\n      <td>Female</td>\n      <td>Yes</td>\n      <td>Fri</td>\n      <td>Dinner</td>\n      <td>2</td>\n      <td>2.88</td>\n      <td>Leah Ramirez</td>\n      <td>3508911676966392</td>\n      <td>Fri3780</td>\n    </tr>\n    <tr>\n      <th>236</th>\n      <td>12.60</td>\n      <td>1.00</td>\n      <td>Male</td>\n      <td>Yes</td>\n      <td>Sat</td>\n      <td>Dinner</td>\n      <td>2</td>\n      <td>6.30</td>\n      <td>Matthew Myers</td>\n      <td>3543676378973965</td>\n      <td>Sat5032</td>\n    </tr>\n    <tr>\n      <th>0</th>\n      <td>16.99</td>\n      <td>1.01</td>\n      <td>Female</td>\n      <td>No</td>\n      <td>Sun</td>\n      <td>Dinner</td>\n      <td>2</td>\n      <td>8.49</td>\n      <td>Christy Cunningham</td>\n      <td>3560325168603410</td>\n      <td>Sun2959</td>\n    </tr>\n    <tr>\n      <th>...</th>\n      <td>...</td>\n      <td>...</td>\n      <td>...</td>\n      <td>...</td>\n      <td>...</td>\n      <td>...</td>\n      <td>...</td>\n      <td>...</td>\n      <td>...</td>\n      <td>...</td>\n      <td>...</td>\n    </tr>\n    <tr>\n      <th>141</th>\n      <td>34.30</td>\n      <td>6.70</td>\n      <td>Male</td>\n      <td>No</td>\n      <td>Thur</td>\n      <td>Lunch</td>\n      <td>6</td>\n      <td>5.72</td>\n      <td>Steven Carlson</td>\n      <td>3526515703718508</td>\n      <td>Thur1025</td>\n    </tr>\n    <tr>\n      <th>59</th>\n      <td>48.27</td>\n      <td>6.73</td>\n      <td>Male</td>\n      <td>No</td>\n      <td>Sat</td>\n      <td>Dinner</td>\n      <td>4</td>\n      <td>12.07</td>\n      <td>Brian Ortiz</td>\n      <td>6596453823950595</td>\n      <td>Sat8139</td>\n    </tr>\n    <tr>\n      <th>23</th>\n      <td>39.42</td>\n      <td>7.58</td>\n      <td>Male</td>\n      <td>No</td>\n      <td>Sat</td>\n      <td>Dinner</td>\n      <td>4</td>\n      <td>9.86</td>\n      <td>Lance Peterson</td>\n      <td>3542584061609808</td>\n      <td>Sat239</td>\n    </tr>\n    <tr>\n      <th>212</th>\n      <td>48.33</td>\n      <td>9.00</td>\n      <td>Male</td>\n      <td>No</td>\n      <td>Sat</td>\n      <td>Dinner</td>\n      <td>4</td>\n      <td>12.08</td>\n      <td>Alex Williamson</td>\n      <td>676218815212</td>\n      <td>Sat4590</td>\n    </tr>\n    <tr>\n      <th>170</th>\n      <td>50.81</td>\n      <td>10.00</td>\n      <td>Male</td>\n      <td>Yes</td>\n      <td>Sat</td>\n      <td>Dinner</td>\n      <td>3</td>\n      <td>16.94</td>\n      <td>Gregory Clark</td>\n      <td>5473850968388236</td>\n      <td>Sat1954</td>\n    </tr>\n  </tbody>\n</table>\n<p>244 rows × 11 columns</p>\n</div>"
          },
          "metadata": {}
        }
      ],
      "execution_count": 26
    },
    {
      "cell_type": "code",
      "source": "# Max & Min value & index\n\ndf['total_bill'].max()  # grabs max total bill",
      "metadata": {
        "trusted": true
      },
      "outputs": [
        {
          "execution_count": 35,
          "output_type": "execute_result",
          "data": {
            "text/plain": "50.81"
          },
          "metadata": {}
        }
      ],
      "execution_count": 35
    },
    {
      "cell_type": "code",
      "source": "df['total_bill'].idxmax() # grabs index of max value",
      "metadata": {
        "trusted": true
      },
      "outputs": [
        {
          "execution_count": 36,
          "output_type": "execute_result",
          "data": {
            "text/plain": "170"
          },
          "metadata": {}
        }
      ],
      "execution_count": 36
    },
    {
      "cell_type": "code",
      "source": "df.iloc[170]",
      "metadata": {
        "trusted": true
      },
      "outputs": [
        {
          "execution_count": 37,
          "output_type": "execute_result",
          "data": {
            "text/plain": "total_bill                     50.81\ntip                             10.0\nsex                             Male\nsmoker                           Yes\nday                              Sat\ntime                          Dinner\nsize                               3\nprice_per_person               16.94\nPayer Name             Gregory Clark\nCC Number           5473850968388236\nPayment ID                   Sat1954\nName: 170, dtype: object"
          },
          "metadata": {}
        }
      ],
      "execution_count": 37
    },
    {
      "cell_type": "code",
      "source": "df['total_bill'].min()  # grabs min totalbill value",
      "metadata": {
        "trusted": true
      },
      "outputs": [
        {
          "execution_count": 38,
          "output_type": "execute_result",
          "data": {
            "text/plain": "3.07"
          },
          "metadata": {}
        }
      ],
      "execution_count": 38
    },
    {
      "cell_type": "code",
      "source": "df['total_bill'].idxmin() # grabs index of min value",
      "metadata": {
        "trusted": true
      },
      "outputs": [
        {
          "execution_count": 39,
          "output_type": "execute_result",
          "data": {
            "text/plain": "67"
          },
          "metadata": {}
        }
      ],
      "execution_count": 39
    },
    {
      "cell_type": "code",
      "source": "df.iloc[67]",
      "metadata": {
        "trusted": true
      },
      "outputs": [
        {
          "execution_count": 40,
          "output_type": "execute_result",
          "data": {
            "text/plain": "total_bill                      3.07\ntip                              1.0\nsex                           Female\nsmoker                           Yes\nday                              Sat\ntime                          Dinner\nsize                               1\nprice_per_person                3.07\nPayer Name             Tiffany Brock\nCC Number           4359488526995267\nPayment ID                   Sat3455\nName: 67, dtype: object"
          },
          "metadata": {}
        }
      ],
      "execution_count": 40
    },
    {
      "cell_type": "code",
      "source": "df.select_dtypes(include=['int32', 'int64', 'float64']).corr()  # gives us coorelation between numeric datatype column",
      "metadata": {
        "trusted": true
      },
      "outputs": [
        {
          "execution_count": 44,
          "output_type": "execute_result",
          "data": {
            "text/plain": "                  total_bill       tip      size  price_per_person  CC Number\ntotal_bill          1.000000  0.675734  0.598315          0.647554   0.104576\ntip                 0.675734  1.000000  0.489299          0.347405   0.110857\nsize                0.598315  0.489299  1.000000         -0.175359  -0.030239\nprice_per_person    0.647554  0.347405 -0.175359          1.000000   0.135240\nCC Number           0.104576  0.110857 -0.030239          0.135240   1.000000",
            "text/html": "<div>\n<style scoped>\n    .dataframe tbody tr th:only-of-type {\n        vertical-align: middle;\n    }\n\n    .dataframe tbody tr th {\n        vertical-align: top;\n    }\n\n    .dataframe thead th {\n        text-align: right;\n    }\n</style>\n<table border=\"1\" class=\"dataframe\">\n  <thead>\n    <tr style=\"text-align: right;\">\n      <th></th>\n      <th>total_bill</th>\n      <th>tip</th>\n      <th>size</th>\n      <th>price_per_person</th>\n      <th>CC Number</th>\n    </tr>\n  </thead>\n  <tbody>\n    <tr>\n      <th>total_bill</th>\n      <td>1.000000</td>\n      <td>0.675734</td>\n      <td>0.598315</td>\n      <td>0.647554</td>\n      <td>0.104576</td>\n    </tr>\n    <tr>\n      <th>tip</th>\n      <td>0.675734</td>\n      <td>1.000000</td>\n      <td>0.489299</td>\n      <td>0.347405</td>\n      <td>0.110857</td>\n    </tr>\n    <tr>\n      <th>size</th>\n      <td>0.598315</td>\n      <td>0.489299</td>\n      <td>1.000000</td>\n      <td>-0.175359</td>\n      <td>-0.030239</td>\n    </tr>\n    <tr>\n      <th>price_per_person</th>\n      <td>0.647554</td>\n      <td>0.347405</td>\n      <td>-0.175359</td>\n      <td>1.000000</td>\n      <td>0.135240</td>\n    </tr>\n    <tr>\n      <th>CC Number</th>\n      <td>0.104576</td>\n      <td>0.110857</td>\n      <td>-0.030239</td>\n      <td>0.135240</td>\n      <td>1.000000</td>\n    </tr>\n  </tbody>\n</table>\n</div>"
          },
          "metadata": {}
        }
      ],
      "execution_count": 44
    },
    {
      "cell_type": "code",
      "source": "# value counts method ---> count per category for categoricl data columns, eg- no. of female or male in sex\ndf.head()",
      "metadata": {
        "trusted": true
      },
      "outputs": [
        {
          "execution_count": 45,
          "output_type": "execute_result",
          "data": {
            "text/plain": "   total_bill   tip     sex smoker  day    time  size  price_per_person  \\\n0       16.99  1.01  Female     No  Sun  Dinner     2              8.49   \n1       10.34  1.66    Male     No  Sun  Dinner     3              3.45   \n2       21.01  3.50    Male     No  Sun  Dinner     3              7.00   \n3       23.68  3.31    Male     No  Sun  Dinner     2             11.84   \n4       24.59  3.61  Female     No  Sun  Dinner     4              6.15   \n\n           Payer Name         CC Number Payment ID  \n0  Christy Cunningham  3560325168603410    Sun2959  \n1      Douglas Tucker  4478071379779230    Sun4608  \n2      Travis Walters  6011812112971322    Sun4458  \n3    Nathaniel Harris  4676137647685994    Sun5260  \n4        Tonya Carter  4832732618637221    Sun2251  ",
            "text/html": "<div>\n<style scoped>\n    .dataframe tbody tr th:only-of-type {\n        vertical-align: middle;\n    }\n\n    .dataframe tbody tr th {\n        vertical-align: top;\n    }\n\n    .dataframe thead th {\n        text-align: right;\n    }\n</style>\n<table border=\"1\" class=\"dataframe\">\n  <thead>\n    <tr style=\"text-align: right;\">\n      <th></th>\n      <th>total_bill</th>\n      <th>tip</th>\n      <th>sex</th>\n      <th>smoker</th>\n      <th>day</th>\n      <th>time</th>\n      <th>size</th>\n      <th>price_per_person</th>\n      <th>Payer Name</th>\n      <th>CC Number</th>\n      <th>Payment ID</th>\n    </tr>\n  </thead>\n  <tbody>\n    <tr>\n      <th>0</th>\n      <td>16.99</td>\n      <td>1.01</td>\n      <td>Female</td>\n      <td>No</td>\n      <td>Sun</td>\n      <td>Dinner</td>\n      <td>2</td>\n      <td>8.49</td>\n      <td>Christy Cunningham</td>\n      <td>3560325168603410</td>\n      <td>Sun2959</td>\n    </tr>\n    <tr>\n      <th>1</th>\n      <td>10.34</td>\n      <td>1.66</td>\n      <td>Male</td>\n      <td>No</td>\n      <td>Sun</td>\n      <td>Dinner</td>\n      <td>3</td>\n      <td>3.45</td>\n      <td>Douglas Tucker</td>\n      <td>4478071379779230</td>\n      <td>Sun4608</td>\n    </tr>\n    <tr>\n      <th>2</th>\n      <td>21.01</td>\n      <td>3.50</td>\n      <td>Male</td>\n      <td>No</td>\n      <td>Sun</td>\n      <td>Dinner</td>\n      <td>3</td>\n      <td>7.00</td>\n      <td>Travis Walters</td>\n      <td>6011812112971322</td>\n      <td>Sun4458</td>\n    </tr>\n    <tr>\n      <th>3</th>\n      <td>23.68</td>\n      <td>3.31</td>\n      <td>Male</td>\n      <td>No</td>\n      <td>Sun</td>\n      <td>Dinner</td>\n      <td>2</td>\n      <td>11.84</td>\n      <td>Nathaniel Harris</td>\n      <td>4676137647685994</td>\n      <td>Sun5260</td>\n    </tr>\n    <tr>\n      <th>4</th>\n      <td>24.59</td>\n      <td>3.61</td>\n      <td>Female</td>\n      <td>No</td>\n      <td>Sun</td>\n      <td>Dinner</td>\n      <td>4</td>\n      <td>6.15</td>\n      <td>Tonya Carter</td>\n      <td>4832732618637221</td>\n      <td>Sun2251</td>\n    </tr>\n  </tbody>\n</table>\n</div>"
          },
          "metadata": {}
        }
      ],
      "execution_count": 45
    },
    {
      "cell_type": "code",
      "source": "df['sex'].value_counts() # returns no. of males & females",
      "metadata": {
        "trusted": true
      },
      "outputs": [
        {
          "execution_count": 46,
          "output_type": "execute_result",
          "data": {
            "text/plain": "sex\nMale      157\nFemale     87\nName: count, dtype: int64"
          },
          "metadata": {}
        }
      ],
      "execution_count": 46
    },
    {
      "cell_type": "code",
      "source": "# unique & nunique method\n\ndf['day']",
      "metadata": {
        "trusted": true
      },
      "outputs": [
        {
          "execution_count": 47,
          "output_type": "execute_result",
          "data": {
            "text/plain": "0       Sun\n1       Sun\n2       Sun\n3       Sun\n4       Sun\n       ... \n239     Sat\n240     Sat\n241     Sat\n242     Sat\n243    Thur\nName: day, Length: 244, dtype: object"
          },
          "metadata": {}
        }
      ],
      "execution_count": 47
    },
    {
      "cell_type": "code",
      "source": "df['day'].unique()  # returns unique set of days present in days column",
      "metadata": {
        "trusted": true
      },
      "outputs": [
        {
          "execution_count": 48,
          "output_type": "execute_result",
          "data": {
            "text/plain": "array(['Sun', 'Sat', 'Thur', 'Fri'], dtype=object)"
          },
          "metadata": {}
        }
      ],
      "execution_count": 48
    },
    {
      "cell_type": "code",
      "source": "df['day'].nunique()  # returns no. of unique values in column, i.e same as lenght of unique array. eg -day",
      "metadata": {
        "trusted": true
      },
      "outputs": [
        {
          "execution_count": 51,
          "output_type": "execute_result",
          "data": {
            "text/plain": "4"
          },
          "metadata": {}
        }
      ],
      "execution_count": 51
    },
    {
      "cell_type": "code",
      "source": " df['day'].value_counts()  # returns the no. of instance of ech day",
      "metadata": {
        "trusted": true
      },
      "outputs": [
        {
          "execution_count": 52,
          "output_type": "execute_result",
          "data": {
            "text/plain": "day\nSat     87\nSun     76\nThur    62\nFri     19\nName: count, dtype: int64"
          },
          "metadata": {}
        }
      ],
      "execution_count": 52
    },
    {
      "cell_type": "code",
      "source": "# switching / replacing values ---> replace() & map() method\n\n#replace method\n\ndf.head()   # eg - we want to replace Male & Female value as M & F",
      "metadata": {
        "trusted": true
      },
      "outputs": [
        {
          "execution_count": 54,
          "output_type": "execute_result",
          "data": {
            "text/plain": "   total_bill   tip     sex smoker  day    time  size  price_per_person  \\\n0       16.99  1.01  Female     No  Sun  Dinner     2              8.49   \n1       10.34  1.66    Male     No  Sun  Dinner     3              3.45   \n2       21.01  3.50    Male     No  Sun  Dinner     3              7.00   \n3       23.68  3.31    Male     No  Sun  Dinner     2             11.84   \n4       24.59  3.61  Female     No  Sun  Dinner     4              6.15   \n\n           Payer Name         CC Number Payment ID  \n0  Christy Cunningham  3560325168603410    Sun2959  \n1      Douglas Tucker  4478071379779230    Sun4608  \n2      Travis Walters  6011812112971322    Sun4458  \n3    Nathaniel Harris  4676137647685994    Sun5260  \n4        Tonya Carter  4832732618637221    Sun2251  ",
            "text/html": "<div>\n<style scoped>\n    .dataframe tbody tr th:only-of-type {\n        vertical-align: middle;\n    }\n\n    .dataframe tbody tr th {\n        vertical-align: top;\n    }\n\n    .dataframe thead th {\n        text-align: right;\n    }\n</style>\n<table border=\"1\" class=\"dataframe\">\n  <thead>\n    <tr style=\"text-align: right;\">\n      <th></th>\n      <th>total_bill</th>\n      <th>tip</th>\n      <th>sex</th>\n      <th>smoker</th>\n      <th>day</th>\n      <th>time</th>\n      <th>size</th>\n      <th>price_per_person</th>\n      <th>Payer Name</th>\n      <th>CC Number</th>\n      <th>Payment ID</th>\n    </tr>\n  </thead>\n  <tbody>\n    <tr>\n      <th>0</th>\n      <td>16.99</td>\n      <td>1.01</td>\n      <td>Female</td>\n      <td>No</td>\n      <td>Sun</td>\n      <td>Dinner</td>\n      <td>2</td>\n      <td>8.49</td>\n      <td>Christy Cunningham</td>\n      <td>3560325168603410</td>\n      <td>Sun2959</td>\n    </tr>\n    <tr>\n      <th>1</th>\n      <td>10.34</td>\n      <td>1.66</td>\n      <td>Male</td>\n      <td>No</td>\n      <td>Sun</td>\n      <td>Dinner</td>\n      <td>3</td>\n      <td>3.45</td>\n      <td>Douglas Tucker</td>\n      <td>4478071379779230</td>\n      <td>Sun4608</td>\n    </tr>\n    <tr>\n      <th>2</th>\n      <td>21.01</td>\n      <td>3.50</td>\n      <td>Male</td>\n      <td>No</td>\n      <td>Sun</td>\n      <td>Dinner</td>\n      <td>3</td>\n      <td>7.00</td>\n      <td>Travis Walters</td>\n      <td>6011812112971322</td>\n      <td>Sun4458</td>\n    </tr>\n    <tr>\n      <th>3</th>\n      <td>23.68</td>\n      <td>3.31</td>\n      <td>Male</td>\n      <td>No</td>\n      <td>Sun</td>\n      <td>Dinner</td>\n      <td>2</td>\n      <td>11.84</td>\n      <td>Nathaniel Harris</td>\n      <td>4676137647685994</td>\n      <td>Sun5260</td>\n    </tr>\n    <tr>\n      <th>4</th>\n      <td>24.59</td>\n      <td>3.61</td>\n      <td>Female</td>\n      <td>No</td>\n      <td>Sun</td>\n      <td>Dinner</td>\n      <td>4</td>\n      <td>6.15</td>\n      <td>Tonya Carter</td>\n      <td>4832732618637221</td>\n      <td>Sun2251</td>\n    </tr>\n  </tbody>\n</table>\n</div>"
          },
          "metadata": {}
        }
      ],
      "execution_count": 54
    },
    {
      "cell_type": "code",
      "source": "df['sex'].replace('Female', 'F')  # single value replce ---> replace FEmale wit F in sex",
      "metadata": {
        "trusted": true
      },
      "outputs": [
        {
          "execution_count": 56,
          "output_type": "execute_result",
          "data": {
            "text/plain": "0         F\n1      Male\n2      Male\n3      Male\n4         F\n       ... \n239    Male\n240       F\n241    Male\n242    Male\n243       F\nName: sex, Length: 244, dtype: object"
          },
          "metadata": {}
        }
      ],
      "execution_count": 56
    },
    {
      "cell_type": "code",
      "source": "df['sex'].replace(['Female', 'Male'], ['F', 'M'])  # multi value replce ---> replace Male & Female with M & F \n\n#NB - recommend to use .replace() method for single value replacemet, eg- replace Null values with Zero etc",
      "metadata": {
        "trusted": true
      },
      "outputs": [
        {
          "execution_count": 58,
          "output_type": "execute_result",
          "data": {
            "text/plain": "0      F\n1      M\n2      M\n3      M\n4      F\n      ..\n239    M\n240    F\n241    M\n242    M\n243    F\nName: sex, Length: 244, dtype: object"
          },
          "metadata": {}
        }
      ],
      "execution_count": 58
    },
    {
      "cell_type": "code",
      "source": "# map() method ---> uses dictionary\n\nmy_map = {'Female': 'F', 'Male': 'M'}\ndf['sex'].map(my_map)    # recommend for multiple value replacement -- easier to read ",
      "metadata": {
        "trusted": true
      },
      "outputs": [
        {
          "execution_count": 59,
          "output_type": "execute_result",
          "data": {
            "text/plain": "0      F\n1      M\n2      M\n3      M\n4      F\n      ..\n239    M\n240    F\n241    M\n242    M\n243    F\nName: sex, Length: 244, dtype: object"
          },
          "metadata": {}
        }
      ],
      "execution_count": 59
    },
    {
      "cell_type": "code",
      "source": "# dealing with duplicate rows\n\ndf.duplicated()  # returns boolean true or false for duplicted rows",
      "metadata": {
        "trusted": true
      },
      "outputs": [
        {
          "execution_count": 60,
          "output_type": "execute_result",
          "data": {
            "text/plain": "0      False\n1      False\n2      False\n3      False\n4      False\n       ...  \n239    False\n240    False\n241    False\n242    False\n243    False\nLength: 244, dtype: bool"
          },
          "metadata": {}
        }
      ],
      "execution_count": 60
    },
    {
      "cell_type": "code",
      "source": "simple_df = pd.DataFrame([1,3,3], ['a','b','c'])\nsimple_df",
      "metadata": {
        "trusted": true
      },
      "outputs": [
        {
          "execution_count": 62,
          "output_type": "execute_result",
          "data": {
            "text/plain": "   0\na  1\nb  3\nc  3",
            "text/html": "<div>\n<style scoped>\n    .dataframe tbody tr th:only-of-type {\n        vertical-align: middle;\n    }\n\n    .dataframe tbody tr th {\n        vertical-align: top;\n    }\n\n    .dataframe thead th {\n        text-align: right;\n    }\n</style>\n<table border=\"1\" class=\"dataframe\">\n  <thead>\n    <tr style=\"text-align: right;\">\n      <th></th>\n      <th>0</th>\n    </tr>\n  </thead>\n  <tbody>\n    <tr>\n      <th>a</th>\n      <td>1</td>\n    </tr>\n    <tr>\n      <th>b</th>\n      <td>3</td>\n    </tr>\n    <tr>\n      <th>c</th>\n      <td>3</td>\n    </tr>\n  </tbody>\n</table>\n</div>"
          },
          "metadata": {}
        }
      ],
      "execution_count": 62
    },
    {
      "cell_type": "code",
      "source": "simple_df.duplicated()",
      "metadata": {
        "trusted": true
      },
      "outputs": [
        {
          "execution_count": 63,
          "output_type": "execute_result",
          "data": {
            "text/plain": "a    False\nb    False\nc     True\ndtype: bool"
          },
          "metadata": {}
        }
      ],
      "execution_count": 63
    },
    {
      "cell_type": "code",
      "source": "simple_df.drop_duplicates()  # removes subsequent duplicate rows",
      "metadata": {
        "trusted": true
      },
      "outputs": [
        {
          "execution_count": 65,
          "output_type": "execute_result",
          "data": {
            "text/plain": "   0\na  1\nb  3",
            "text/html": "<div>\n<style scoped>\n    .dataframe tbody tr th:only-of-type {\n        vertical-align: middle;\n    }\n\n    .dataframe tbody tr th {\n        vertical-align: top;\n    }\n\n    .dataframe thead th {\n        text-align: right;\n    }\n</style>\n<table border=\"1\" class=\"dataframe\">\n  <thead>\n    <tr style=\"text-align: right;\">\n      <th></th>\n      <th>0</th>\n    </tr>\n  </thead>\n  <tbody>\n    <tr>\n      <th>a</th>\n      <td>1</td>\n    </tr>\n    <tr>\n      <th>b</th>\n      <td>3</td>\n    </tr>\n  </tbody>\n</table>\n</div>"
          },
          "metadata": {}
        }
      ],
      "execution_count": 65
    },
    {
      "cell_type": "code",
      "source": "# betwwen() method ---> tells us which values are in between two value we choose in column\ndf['total_bill']",
      "metadata": {
        "trusted": true
      },
      "outputs": [
        {
          "execution_count": 66,
          "output_type": "execute_result",
          "data": {
            "text/plain": "0      16.99\n1      10.34\n2      21.01\n3      23.68\n4      24.59\n       ...  \n239    29.03\n240    27.18\n241    22.67\n242    17.82\n243    18.78\nName: total_bill, Length: 244, dtype: float64"
          },
          "metadata": {}
        }
      ],
      "execution_count": 66
    },
    {
      "cell_type": "code",
      "source": "df['total_bill'].between(5, 20, inclusive = 'both')  # returns boolean value tru or false if values is between 5 & 20 including itself ",
      "metadata": {
        "trusted": true
      },
      "outputs": [
        {
          "execution_count": 70,
          "output_type": "execute_result",
          "data": {
            "text/plain": "0       True\n1       True\n2      False\n3      False\n4      False\n       ...  \n239    False\n240    False\n241    False\n242     True\n243     True\nName: total_bill, Length: 244, dtype: bool"
          },
          "metadata": {}
        }
      ],
      "execution_count": 70
    },
    {
      "cell_type": "code",
      "source": "df[df['total_bill'].between(5, 20, inclusive = 'both')] # using it as boolean filter --> returns totalbills only between 4 & 15",
      "metadata": {
        "trusted": true
      },
      "outputs": [
        {
          "execution_count": 71,
          "output_type": "execute_result",
          "data": {
            "text/plain": "     total_bill   tip     sex smoker   day    time  size  price_per_person  \\\n0         16.99  1.01  Female     No   Sun  Dinner     2              8.49   \n1         10.34  1.66    Male     No   Sun  Dinner     3              3.45   \n6          8.77  2.00    Male     No   Sun  Dinner     2              4.38   \n8         15.04  1.96    Male     No   Sun  Dinner     2              7.52   \n9         14.78  3.23    Male     No   Sun  Dinner     2              7.39   \n..          ...   ...     ...    ...   ...     ...   ...               ...   \n234       15.53  3.00    Male    Yes   Sat  Dinner     2              7.76   \n235       10.07  1.25    Male     No   Sat  Dinner     2              5.04   \n236       12.60  1.00    Male    Yes   Sat  Dinner     2              6.30   \n242       17.82  1.75    Male     No   Sat  Dinner     2              8.91   \n243       18.78  3.00  Female     No  Thur  Dinner     2              9.39   \n\n             Payer Name         CC Number Payment ID  \n0    Christy Cunningham  3560325168603410    Sun2959  \n1        Douglas Tucker  4478071379779230    Sun4608  \n6    Kristopher Johnson  2223727524230344    Sun5985  \n8       Joseph Mcdonald  3522866365840377    Sun6820  \n9         Jerome Abbott  3532124519049786    Sun3775  \n..                  ...               ...        ...  \n234       Tracy Douglas  4097938155941930    Sat7220  \n235       Sean Gonzalez  3534021246117605    Sat4615  \n236       Matthew Myers  3543676378973965    Sat5032  \n242        Dennis Dixon     4375220550950      Sat17  \n243     Michelle Hardin  3511451626698139    Thur672  \n\n[146 rows x 11 columns]",
            "text/html": "<div>\n<style scoped>\n    .dataframe tbody tr th:only-of-type {\n        vertical-align: middle;\n    }\n\n    .dataframe tbody tr th {\n        vertical-align: top;\n    }\n\n    .dataframe thead th {\n        text-align: right;\n    }\n</style>\n<table border=\"1\" class=\"dataframe\">\n  <thead>\n    <tr style=\"text-align: right;\">\n      <th></th>\n      <th>total_bill</th>\n      <th>tip</th>\n      <th>sex</th>\n      <th>smoker</th>\n      <th>day</th>\n      <th>time</th>\n      <th>size</th>\n      <th>price_per_person</th>\n      <th>Payer Name</th>\n      <th>CC Number</th>\n      <th>Payment ID</th>\n    </tr>\n  </thead>\n  <tbody>\n    <tr>\n      <th>0</th>\n      <td>16.99</td>\n      <td>1.01</td>\n      <td>Female</td>\n      <td>No</td>\n      <td>Sun</td>\n      <td>Dinner</td>\n      <td>2</td>\n      <td>8.49</td>\n      <td>Christy Cunningham</td>\n      <td>3560325168603410</td>\n      <td>Sun2959</td>\n    </tr>\n    <tr>\n      <th>1</th>\n      <td>10.34</td>\n      <td>1.66</td>\n      <td>Male</td>\n      <td>No</td>\n      <td>Sun</td>\n      <td>Dinner</td>\n      <td>3</td>\n      <td>3.45</td>\n      <td>Douglas Tucker</td>\n      <td>4478071379779230</td>\n      <td>Sun4608</td>\n    </tr>\n    <tr>\n      <th>6</th>\n      <td>8.77</td>\n      <td>2.00</td>\n      <td>Male</td>\n      <td>No</td>\n      <td>Sun</td>\n      <td>Dinner</td>\n      <td>2</td>\n      <td>4.38</td>\n      <td>Kristopher Johnson</td>\n      <td>2223727524230344</td>\n      <td>Sun5985</td>\n    </tr>\n    <tr>\n      <th>8</th>\n      <td>15.04</td>\n      <td>1.96</td>\n      <td>Male</td>\n      <td>No</td>\n      <td>Sun</td>\n      <td>Dinner</td>\n      <td>2</td>\n      <td>7.52</td>\n      <td>Joseph Mcdonald</td>\n      <td>3522866365840377</td>\n      <td>Sun6820</td>\n    </tr>\n    <tr>\n      <th>9</th>\n      <td>14.78</td>\n      <td>3.23</td>\n      <td>Male</td>\n      <td>No</td>\n      <td>Sun</td>\n      <td>Dinner</td>\n      <td>2</td>\n      <td>7.39</td>\n      <td>Jerome Abbott</td>\n      <td>3532124519049786</td>\n      <td>Sun3775</td>\n    </tr>\n    <tr>\n      <th>...</th>\n      <td>...</td>\n      <td>...</td>\n      <td>...</td>\n      <td>...</td>\n      <td>...</td>\n      <td>...</td>\n      <td>...</td>\n      <td>...</td>\n      <td>...</td>\n      <td>...</td>\n      <td>...</td>\n    </tr>\n    <tr>\n      <th>234</th>\n      <td>15.53</td>\n      <td>3.00</td>\n      <td>Male</td>\n      <td>Yes</td>\n      <td>Sat</td>\n      <td>Dinner</td>\n      <td>2</td>\n      <td>7.76</td>\n      <td>Tracy Douglas</td>\n      <td>4097938155941930</td>\n      <td>Sat7220</td>\n    </tr>\n    <tr>\n      <th>235</th>\n      <td>10.07</td>\n      <td>1.25</td>\n      <td>Male</td>\n      <td>No</td>\n      <td>Sat</td>\n      <td>Dinner</td>\n      <td>2</td>\n      <td>5.04</td>\n      <td>Sean Gonzalez</td>\n      <td>3534021246117605</td>\n      <td>Sat4615</td>\n    </tr>\n    <tr>\n      <th>236</th>\n      <td>12.60</td>\n      <td>1.00</td>\n      <td>Male</td>\n      <td>Yes</td>\n      <td>Sat</td>\n      <td>Dinner</td>\n      <td>2</td>\n      <td>6.30</td>\n      <td>Matthew Myers</td>\n      <td>3543676378973965</td>\n      <td>Sat5032</td>\n    </tr>\n    <tr>\n      <th>242</th>\n      <td>17.82</td>\n      <td>1.75</td>\n      <td>Male</td>\n      <td>No</td>\n      <td>Sat</td>\n      <td>Dinner</td>\n      <td>2</td>\n      <td>8.91</td>\n      <td>Dennis Dixon</td>\n      <td>4375220550950</td>\n      <td>Sat17</td>\n    </tr>\n    <tr>\n      <th>243</th>\n      <td>18.78</td>\n      <td>3.00</td>\n      <td>Female</td>\n      <td>No</td>\n      <td>Thur</td>\n      <td>Dinner</td>\n      <td>2</td>\n      <td>9.39</td>\n      <td>Michelle Hardin</td>\n      <td>3511451626698139</td>\n      <td>Thur672</td>\n    </tr>\n  </tbody>\n</table>\n<p>146 rows × 11 columns</p>\n</div>"
          },
          "metadata": {}
        }
      ],
      "execution_count": 71
    },
    {
      "cell_type": "code",
      "source": "# nlargest & nsmallest \n\ndf.nlargest(10, 'tip')  # returns the 10 largest tips",
      "metadata": {
        "trusted": true
      },
      "outputs": [
        {
          "execution_count": 72,
          "output_type": "execute_result",
          "data": {
            "text/plain": "     total_bill    tip     sex smoker   day    time  size  price_per_person  \\\n170       50.81  10.00    Male    Yes   Sat  Dinner     3             16.94   \n212       48.33   9.00    Male     No   Sat  Dinner     4             12.08   \n23        39.42   7.58    Male     No   Sat  Dinner     4              9.86   \n59        48.27   6.73    Male     No   Sat  Dinner     4             12.07   \n141       34.30   6.70    Male     No  Thur   Lunch     6              5.72   \n183       23.17   6.50    Male    Yes   Sun  Dinner     4              5.79   \n214       28.17   6.50  Female    Yes   Sat  Dinner     3              9.39   \n47        32.40   6.00    Male     No   Sun  Dinner     4              8.10   \n239       29.03   5.92    Male     No   Sat  Dinner     3              9.68   \n88        24.71   5.85    Male     No  Thur   Lunch     2             12.36   \n\n            Payer Name         CC Number Payment ID  \n170      Gregory Clark  5473850968388236    Sat1954  \n212    Alex Williamson      676218815212    Sat4590  \n23      Lance Peterson  3542584061609808     Sat239  \n59         Brian Ortiz  6596453823950595    Sat8139  \n141     Steven Carlson  3526515703718508   Thur1025  \n183  Dr. Michael James     4718501859162    Sun6059  \n214    Marissa Jackson  4922302538691962    Sat3374  \n47        James Barnes  3552002592874186    Sun9677  \n239      Michael Avila  5296068606052842    Sat2657  \n88        Roger Taylor     4410248629955   Thur9003  ",
            "text/html": "<div>\n<style scoped>\n    .dataframe tbody tr th:only-of-type {\n        vertical-align: middle;\n    }\n\n    .dataframe tbody tr th {\n        vertical-align: top;\n    }\n\n    .dataframe thead th {\n        text-align: right;\n    }\n</style>\n<table border=\"1\" class=\"dataframe\">\n  <thead>\n    <tr style=\"text-align: right;\">\n      <th></th>\n      <th>total_bill</th>\n      <th>tip</th>\n      <th>sex</th>\n      <th>smoker</th>\n      <th>day</th>\n      <th>time</th>\n      <th>size</th>\n      <th>price_per_person</th>\n      <th>Payer Name</th>\n      <th>CC Number</th>\n      <th>Payment ID</th>\n    </tr>\n  </thead>\n  <tbody>\n    <tr>\n      <th>170</th>\n      <td>50.81</td>\n      <td>10.00</td>\n      <td>Male</td>\n      <td>Yes</td>\n      <td>Sat</td>\n      <td>Dinner</td>\n      <td>3</td>\n      <td>16.94</td>\n      <td>Gregory Clark</td>\n      <td>5473850968388236</td>\n      <td>Sat1954</td>\n    </tr>\n    <tr>\n      <th>212</th>\n      <td>48.33</td>\n      <td>9.00</td>\n      <td>Male</td>\n      <td>No</td>\n      <td>Sat</td>\n      <td>Dinner</td>\n      <td>4</td>\n      <td>12.08</td>\n      <td>Alex Williamson</td>\n      <td>676218815212</td>\n      <td>Sat4590</td>\n    </tr>\n    <tr>\n      <th>23</th>\n      <td>39.42</td>\n      <td>7.58</td>\n      <td>Male</td>\n      <td>No</td>\n      <td>Sat</td>\n      <td>Dinner</td>\n      <td>4</td>\n      <td>9.86</td>\n      <td>Lance Peterson</td>\n      <td>3542584061609808</td>\n      <td>Sat239</td>\n    </tr>\n    <tr>\n      <th>59</th>\n      <td>48.27</td>\n      <td>6.73</td>\n      <td>Male</td>\n      <td>No</td>\n      <td>Sat</td>\n      <td>Dinner</td>\n      <td>4</td>\n      <td>12.07</td>\n      <td>Brian Ortiz</td>\n      <td>6596453823950595</td>\n      <td>Sat8139</td>\n    </tr>\n    <tr>\n      <th>141</th>\n      <td>34.30</td>\n      <td>6.70</td>\n      <td>Male</td>\n      <td>No</td>\n      <td>Thur</td>\n      <td>Lunch</td>\n      <td>6</td>\n      <td>5.72</td>\n      <td>Steven Carlson</td>\n      <td>3526515703718508</td>\n      <td>Thur1025</td>\n    </tr>\n    <tr>\n      <th>183</th>\n      <td>23.17</td>\n      <td>6.50</td>\n      <td>Male</td>\n      <td>Yes</td>\n      <td>Sun</td>\n      <td>Dinner</td>\n      <td>4</td>\n      <td>5.79</td>\n      <td>Dr. Michael James</td>\n      <td>4718501859162</td>\n      <td>Sun6059</td>\n    </tr>\n    <tr>\n      <th>214</th>\n      <td>28.17</td>\n      <td>6.50</td>\n      <td>Female</td>\n      <td>Yes</td>\n      <td>Sat</td>\n      <td>Dinner</td>\n      <td>3</td>\n      <td>9.39</td>\n      <td>Marissa Jackson</td>\n      <td>4922302538691962</td>\n      <td>Sat3374</td>\n    </tr>\n    <tr>\n      <th>47</th>\n      <td>32.40</td>\n      <td>6.00</td>\n      <td>Male</td>\n      <td>No</td>\n      <td>Sun</td>\n      <td>Dinner</td>\n      <td>4</td>\n      <td>8.10</td>\n      <td>James Barnes</td>\n      <td>3552002592874186</td>\n      <td>Sun9677</td>\n    </tr>\n    <tr>\n      <th>239</th>\n      <td>29.03</td>\n      <td>5.92</td>\n      <td>Male</td>\n      <td>No</td>\n      <td>Sat</td>\n      <td>Dinner</td>\n      <td>3</td>\n      <td>9.68</td>\n      <td>Michael Avila</td>\n      <td>5296068606052842</td>\n      <td>Sat2657</td>\n    </tr>\n    <tr>\n      <th>88</th>\n      <td>24.71</td>\n      <td>5.85</td>\n      <td>Male</td>\n      <td>No</td>\n      <td>Thur</td>\n      <td>Lunch</td>\n      <td>2</td>\n      <td>12.36</td>\n      <td>Roger Taylor</td>\n      <td>4410248629955</td>\n      <td>Thur9003</td>\n    </tr>\n  </tbody>\n</table>\n</div>"
          },
          "metadata": {}
        }
      ],
      "execution_count": 72
    },
    {
      "cell_type": "code",
      "source": "df.nsmallest(7, 'tip' )  # returns 10 smallest tips",
      "metadata": {
        "trusted": true
      },
      "outputs": [
        {
          "execution_count": 74,
          "output_type": "execute_result",
          "data": {
            "text/plain": "     total_bill   tip     sex smoker  day    time  size  price_per_person  \\\n67         3.07  1.00  Female    Yes  Sat  Dinner     1              3.07   \n92         5.75  1.00  Female    Yes  Fri  Dinner     2              2.88   \n111        7.25  1.00  Female     No  Sat  Dinner     1              7.25   \n236       12.60  1.00    Male    Yes  Sat  Dinner     2              6.30   \n0         16.99  1.01  Female     No  Sun  Dinner     2              8.49   \n215       12.90  1.10  Female    Yes  Sat  Dinner     2              6.45   \n237       32.83  1.17    Male    Yes  Sat  Dinner     2             16.42   \n\n             Payer Name         CC Number Payment ID  \n67        Tiffany Brock  4359488526995267    Sat3455  \n92         Leah Ramirez  3508911676966392    Fri3780  \n111         Terri Jones  3559221007826887    Sat4801  \n236       Matthew Myers  3543676378973965    Sat5032  \n0    Christy Cunningham  3560325168603410    Sun2959  \n215        Jessica Owen     4726904879471    Sat6983  \n237        Thomas Brown  4284722681265508    Sat2929  ",
            "text/html": "<div>\n<style scoped>\n    .dataframe tbody tr th:only-of-type {\n        vertical-align: middle;\n    }\n\n    .dataframe tbody tr th {\n        vertical-align: top;\n    }\n\n    .dataframe thead th {\n        text-align: right;\n    }\n</style>\n<table border=\"1\" class=\"dataframe\">\n  <thead>\n    <tr style=\"text-align: right;\">\n      <th></th>\n      <th>total_bill</th>\n      <th>tip</th>\n      <th>sex</th>\n      <th>smoker</th>\n      <th>day</th>\n      <th>time</th>\n      <th>size</th>\n      <th>price_per_person</th>\n      <th>Payer Name</th>\n      <th>CC Number</th>\n      <th>Payment ID</th>\n    </tr>\n  </thead>\n  <tbody>\n    <tr>\n      <th>67</th>\n      <td>3.07</td>\n      <td>1.00</td>\n      <td>Female</td>\n      <td>Yes</td>\n      <td>Sat</td>\n      <td>Dinner</td>\n      <td>1</td>\n      <td>3.07</td>\n      <td>Tiffany Brock</td>\n      <td>4359488526995267</td>\n      <td>Sat3455</td>\n    </tr>\n    <tr>\n      <th>92</th>\n      <td>5.75</td>\n      <td>1.00</td>\n      <td>Female</td>\n      <td>Yes</td>\n      <td>Fri</td>\n      <td>Dinner</td>\n      <td>2</td>\n      <td>2.88</td>\n      <td>Leah Ramirez</td>\n      <td>3508911676966392</td>\n      <td>Fri3780</td>\n    </tr>\n    <tr>\n      <th>111</th>\n      <td>7.25</td>\n      <td>1.00</td>\n      <td>Female</td>\n      <td>No</td>\n      <td>Sat</td>\n      <td>Dinner</td>\n      <td>1</td>\n      <td>7.25</td>\n      <td>Terri Jones</td>\n      <td>3559221007826887</td>\n      <td>Sat4801</td>\n    </tr>\n    <tr>\n      <th>236</th>\n      <td>12.60</td>\n      <td>1.00</td>\n      <td>Male</td>\n      <td>Yes</td>\n      <td>Sat</td>\n      <td>Dinner</td>\n      <td>2</td>\n      <td>6.30</td>\n      <td>Matthew Myers</td>\n      <td>3543676378973965</td>\n      <td>Sat5032</td>\n    </tr>\n    <tr>\n      <th>0</th>\n      <td>16.99</td>\n      <td>1.01</td>\n      <td>Female</td>\n      <td>No</td>\n      <td>Sun</td>\n      <td>Dinner</td>\n      <td>2</td>\n      <td>8.49</td>\n      <td>Christy Cunningham</td>\n      <td>3560325168603410</td>\n      <td>Sun2959</td>\n    </tr>\n    <tr>\n      <th>215</th>\n      <td>12.90</td>\n      <td>1.10</td>\n      <td>Female</td>\n      <td>Yes</td>\n      <td>Sat</td>\n      <td>Dinner</td>\n      <td>2</td>\n      <td>6.45</td>\n      <td>Jessica Owen</td>\n      <td>4726904879471</td>\n      <td>Sat6983</td>\n    </tr>\n    <tr>\n      <th>237</th>\n      <td>32.83</td>\n      <td>1.17</td>\n      <td>Male</td>\n      <td>Yes</td>\n      <td>Sat</td>\n      <td>Dinner</td>\n      <td>2</td>\n      <td>16.42</td>\n      <td>Thomas Brown</td>\n      <td>4284722681265508</td>\n      <td>Sat2929</td>\n    </tr>\n  </tbody>\n</table>\n</div>"
          },
          "metadata": {}
        }
      ],
      "execution_count": 74
    },
    {
      "cell_type": "code",
      "source": "df.sort_values('tip', ascending=False)",
      "metadata": {
        "trusted": true
      },
      "outputs": [
        {
          "execution_count": 77,
          "output_type": "execute_result",
          "data": {
            "text/plain": "     total_bill    tip     sex smoker   day    time  size  price_per_person  \\\n170       50.81  10.00    Male    Yes   Sat  Dinner     3             16.94   \n212       48.33   9.00    Male     No   Sat  Dinner     4             12.08   \n23        39.42   7.58    Male     No   Sat  Dinner     4              9.86   \n59        48.27   6.73    Male     No   Sat  Dinner     4             12.07   \n141       34.30   6.70    Male     No  Thur   Lunch     6              5.72   \n..          ...    ...     ...    ...   ...     ...   ...               ...   \n0         16.99   1.01  Female     No   Sun  Dinner     2              8.49   \n236       12.60   1.00    Male    Yes   Sat  Dinner     2              6.30   \n111        7.25   1.00  Female     No   Sat  Dinner     1              7.25   \n67         3.07   1.00  Female    Yes   Sat  Dinner     1              3.07   \n92         5.75   1.00  Female    Yes   Fri  Dinner     2              2.88   \n\n             Payer Name         CC Number Payment ID  \n170       Gregory Clark  5473850968388236    Sat1954  \n212     Alex Williamson      676218815212    Sat4590  \n23       Lance Peterson  3542584061609808     Sat239  \n59          Brian Ortiz  6596453823950595    Sat8139  \n141      Steven Carlson  3526515703718508   Thur1025  \n..                  ...               ...        ...  \n0    Christy Cunningham  3560325168603410    Sun2959  \n236       Matthew Myers  3543676378973965    Sat5032  \n111         Terri Jones  3559221007826887    Sat4801  \n67        Tiffany Brock  4359488526995267    Sat3455  \n92         Leah Ramirez  3508911676966392    Fri3780  \n\n[244 rows x 11 columns]",
            "text/html": "<div>\n<style scoped>\n    .dataframe tbody tr th:only-of-type {\n        vertical-align: middle;\n    }\n\n    .dataframe tbody tr th {\n        vertical-align: top;\n    }\n\n    .dataframe thead th {\n        text-align: right;\n    }\n</style>\n<table border=\"1\" class=\"dataframe\">\n  <thead>\n    <tr style=\"text-align: right;\">\n      <th></th>\n      <th>total_bill</th>\n      <th>tip</th>\n      <th>sex</th>\n      <th>smoker</th>\n      <th>day</th>\n      <th>time</th>\n      <th>size</th>\n      <th>price_per_person</th>\n      <th>Payer Name</th>\n      <th>CC Number</th>\n      <th>Payment ID</th>\n    </tr>\n  </thead>\n  <tbody>\n    <tr>\n      <th>170</th>\n      <td>50.81</td>\n      <td>10.00</td>\n      <td>Male</td>\n      <td>Yes</td>\n      <td>Sat</td>\n      <td>Dinner</td>\n      <td>3</td>\n      <td>16.94</td>\n      <td>Gregory Clark</td>\n      <td>5473850968388236</td>\n      <td>Sat1954</td>\n    </tr>\n    <tr>\n      <th>212</th>\n      <td>48.33</td>\n      <td>9.00</td>\n      <td>Male</td>\n      <td>No</td>\n      <td>Sat</td>\n      <td>Dinner</td>\n      <td>4</td>\n      <td>12.08</td>\n      <td>Alex Williamson</td>\n      <td>676218815212</td>\n      <td>Sat4590</td>\n    </tr>\n    <tr>\n      <th>23</th>\n      <td>39.42</td>\n      <td>7.58</td>\n      <td>Male</td>\n      <td>No</td>\n      <td>Sat</td>\n      <td>Dinner</td>\n      <td>4</td>\n      <td>9.86</td>\n      <td>Lance Peterson</td>\n      <td>3542584061609808</td>\n      <td>Sat239</td>\n    </tr>\n    <tr>\n      <th>59</th>\n      <td>48.27</td>\n      <td>6.73</td>\n      <td>Male</td>\n      <td>No</td>\n      <td>Sat</td>\n      <td>Dinner</td>\n      <td>4</td>\n      <td>12.07</td>\n      <td>Brian Ortiz</td>\n      <td>6596453823950595</td>\n      <td>Sat8139</td>\n    </tr>\n    <tr>\n      <th>141</th>\n      <td>34.30</td>\n      <td>6.70</td>\n      <td>Male</td>\n      <td>No</td>\n      <td>Thur</td>\n      <td>Lunch</td>\n      <td>6</td>\n      <td>5.72</td>\n      <td>Steven Carlson</td>\n      <td>3526515703718508</td>\n      <td>Thur1025</td>\n    </tr>\n    <tr>\n      <th>...</th>\n      <td>...</td>\n      <td>...</td>\n      <td>...</td>\n      <td>...</td>\n      <td>...</td>\n      <td>...</td>\n      <td>...</td>\n      <td>...</td>\n      <td>...</td>\n      <td>...</td>\n      <td>...</td>\n    </tr>\n    <tr>\n      <th>0</th>\n      <td>16.99</td>\n      <td>1.01</td>\n      <td>Female</td>\n      <td>No</td>\n      <td>Sun</td>\n      <td>Dinner</td>\n      <td>2</td>\n      <td>8.49</td>\n      <td>Christy Cunningham</td>\n      <td>3560325168603410</td>\n      <td>Sun2959</td>\n    </tr>\n    <tr>\n      <th>236</th>\n      <td>12.60</td>\n      <td>1.00</td>\n      <td>Male</td>\n      <td>Yes</td>\n      <td>Sat</td>\n      <td>Dinner</td>\n      <td>2</td>\n      <td>6.30</td>\n      <td>Matthew Myers</td>\n      <td>3543676378973965</td>\n      <td>Sat5032</td>\n    </tr>\n    <tr>\n      <th>111</th>\n      <td>7.25</td>\n      <td>1.00</td>\n      <td>Female</td>\n      <td>No</td>\n      <td>Sat</td>\n      <td>Dinner</td>\n      <td>1</td>\n      <td>7.25</td>\n      <td>Terri Jones</td>\n      <td>3559221007826887</td>\n      <td>Sat4801</td>\n    </tr>\n    <tr>\n      <th>67</th>\n      <td>3.07</td>\n      <td>1.00</td>\n      <td>Female</td>\n      <td>Yes</td>\n      <td>Sat</td>\n      <td>Dinner</td>\n      <td>1</td>\n      <td>3.07</td>\n      <td>Tiffany Brock</td>\n      <td>4359488526995267</td>\n      <td>Sat3455</td>\n    </tr>\n    <tr>\n      <th>92</th>\n      <td>5.75</td>\n      <td>1.00</td>\n      <td>Female</td>\n      <td>Yes</td>\n      <td>Fri</td>\n      <td>Dinner</td>\n      <td>2</td>\n      <td>2.88</td>\n      <td>Leah Ramirez</td>\n      <td>3508911676966392</td>\n      <td>Fri3780</td>\n    </tr>\n  </tbody>\n</table>\n<p>244 rows × 11 columns</p>\n</div>"
          },
          "metadata": {}
        }
      ],
      "execution_count": 77
    },
    {
      "cell_type": "code",
      "source": "# sampling ---> take random sample of a dataframe\n\ndf.sample(5) # returns five random rows of df",
      "metadata": {
        "trusted": true
      },
      "outputs": [
        {
          "execution_count": 79,
          "output_type": "execute_result",
          "data": {
            "text/plain": "     total_bill   tip     sex smoker   day    time  size  price_per_person  \\\n198       13.00  2.00  Female    Yes  Thur   Lunch     2              6.50   \n91        22.49  3.50    Male     No   Fri  Dinner     2             11.24   \n135        8.51  1.25  Female     No  Thur   Lunch     2              4.26   \n222        8.58  1.92    Male    Yes   Fri   Lunch     1              8.58   \n144       16.43  2.30  Female     No  Thur   Lunch     2              8.22   \n\n         Payer Name         CC Number Payment ID  \n198  Katherine Bond     4926725945192    Thur437  \n91        Earl Horn  6011849326227398    Fri5700  \n135  Rebecca Harris  4320272020376174   Thur6600  \n222  Jason Lawrence  3505302934650403    Fri6624  \n144     Linda Jones  6542729219645658   Thur9002  ",
            "text/html": "<div>\n<style scoped>\n    .dataframe tbody tr th:only-of-type {\n        vertical-align: middle;\n    }\n\n    .dataframe tbody tr th {\n        vertical-align: top;\n    }\n\n    .dataframe thead th {\n        text-align: right;\n    }\n</style>\n<table border=\"1\" class=\"dataframe\">\n  <thead>\n    <tr style=\"text-align: right;\">\n      <th></th>\n      <th>total_bill</th>\n      <th>tip</th>\n      <th>sex</th>\n      <th>smoker</th>\n      <th>day</th>\n      <th>time</th>\n      <th>size</th>\n      <th>price_per_person</th>\n      <th>Payer Name</th>\n      <th>CC Number</th>\n      <th>Payment ID</th>\n    </tr>\n  </thead>\n  <tbody>\n    <tr>\n      <th>198</th>\n      <td>13.00</td>\n      <td>2.00</td>\n      <td>Female</td>\n      <td>Yes</td>\n      <td>Thur</td>\n      <td>Lunch</td>\n      <td>2</td>\n      <td>6.50</td>\n      <td>Katherine Bond</td>\n      <td>4926725945192</td>\n      <td>Thur437</td>\n    </tr>\n    <tr>\n      <th>91</th>\n      <td>22.49</td>\n      <td>3.50</td>\n      <td>Male</td>\n      <td>No</td>\n      <td>Fri</td>\n      <td>Dinner</td>\n      <td>2</td>\n      <td>11.24</td>\n      <td>Earl Horn</td>\n      <td>6011849326227398</td>\n      <td>Fri5700</td>\n    </tr>\n    <tr>\n      <th>135</th>\n      <td>8.51</td>\n      <td>1.25</td>\n      <td>Female</td>\n      <td>No</td>\n      <td>Thur</td>\n      <td>Lunch</td>\n      <td>2</td>\n      <td>4.26</td>\n      <td>Rebecca Harris</td>\n      <td>4320272020376174</td>\n      <td>Thur6600</td>\n    </tr>\n    <tr>\n      <th>222</th>\n      <td>8.58</td>\n      <td>1.92</td>\n      <td>Male</td>\n      <td>Yes</td>\n      <td>Fri</td>\n      <td>Lunch</td>\n      <td>1</td>\n      <td>8.58</td>\n      <td>Jason Lawrence</td>\n      <td>3505302934650403</td>\n      <td>Fri6624</td>\n    </tr>\n    <tr>\n      <th>144</th>\n      <td>16.43</td>\n      <td>2.30</td>\n      <td>Female</td>\n      <td>No</td>\n      <td>Thur</td>\n      <td>Lunch</td>\n      <td>2</td>\n      <td>8.22</td>\n      <td>Linda Jones</td>\n      <td>6542729219645658</td>\n      <td>Thur9002</td>\n    </tr>\n  </tbody>\n</table>\n</div>"
          },
          "metadata": {}
        }
      ],
      "execution_count": 79
    },
    {
      "cell_type": "code",
      "source": "df.sample(frac=0.05) # random sample based of fraction % of df eg - 5%",
      "metadata": {
        "trusted": true
      },
      "outputs": [
        {
          "execution_count": 83,
          "output_type": "execute_result",
          "data": {
            "text/plain": "     total_bill   tip     sex smoker   day    time  size  price_per_person  \\\n43         9.68  1.32    Male     No   Sun  Dinner     2              4.84   \n166       20.76  2.24    Male     No   Sun  Dinner     2             10.38   \n198       13.00  2.00  Female    Yes  Thur   Lunch     2              6.50   \n171       15.81  3.16    Male    Yes   Sat  Dinner     2              7.90   \n88        24.71  5.85    Male     No  Thur   Lunch     2             12.36   \n48        28.55  2.05    Male     No   Sun  Dinner     3              9.52   \n151       13.13  2.00    Male     No   Sun  Dinner     2              6.56   \n216       28.15  3.00    Male    Yes   Sat  Dinner     5              5.63   \n24        19.82  3.18    Male     No   Sat  Dinner     2              9.91   \n122       14.26  2.50    Male     No  Thur   Lunch     2              7.13   \n17        16.29  3.71    Male     No   Sun  Dinner     3              5.43   \n169       10.63  2.00  Female    Yes   Sat  Dinner     2              5.32   \n\n             Payer Name         CC Number Payment ID  \n43   Christopher Spears  4387671121369212    Sun3279  \n166         Gordon Lane  4110599849536479    Sun6738  \n198      Katherine Bond     4926725945192    Thur437  \n171          David Hall      502004138207    Sat6750  \n88         Roger Taylor     4410248629955   Thur9003  \n48        Austin Fisher  6011481668986587    Sun4142  \n151        Jason Arnold  3571825125296106    Sun2127  \n216   Shawn Barnett PhD     4590982568244    Sat7320  \n24     Christopher Ross    36739148167928    Sat6236  \n122        Perry Garcia   180034646320219   Thur3579  \n17         John Pittman  6521340257218708    Sun2998  \n169            Amy Hill  3536332481454019    Sat1788  ",
            "text/html": "<div>\n<style scoped>\n    .dataframe tbody tr th:only-of-type {\n        vertical-align: middle;\n    }\n\n    .dataframe tbody tr th {\n        vertical-align: top;\n    }\n\n    .dataframe thead th {\n        text-align: right;\n    }\n</style>\n<table border=\"1\" class=\"dataframe\">\n  <thead>\n    <tr style=\"text-align: right;\">\n      <th></th>\n      <th>total_bill</th>\n      <th>tip</th>\n      <th>sex</th>\n      <th>smoker</th>\n      <th>day</th>\n      <th>time</th>\n      <th>size</th>\n      <th>price_per_person</th>\n      <th>Payer Name</th>\n      <th>CC Number</th>\n      <th>Payment ID</th>\n    </tr>\n  </thead>\n  <tbody>\n    <tr>\n      <th>43</th>\n      <td>9.68</td>\n      <td>1.32</td>\n      <td>Male</td>\n      <td>No</td>\n      <td>Sun</td>\n      <td>Dinner</td>\n      <td>2</td>\n      <td>4.84</td>\n      <td>Christopher Spears</td>\n      <td>4387671121369212</td>\n      <td>Sun3279</td>\n    </tr>\n    <tr>\n      <th>166</th>\n      <td>20.76</td>\n      <td>2.24</td>\n      <td>Male</td>\n      <td>No</td>\n      <td>Sun</td>\n      <td>Dinner</td>\n      <td>2</td>\n      <td>10.38</td>\n      <td>Gordon Lane</td>\n      <td>4110599849536479</td>\n      <td>Sun6738</td>\n    </tr>\n    <tr>\n      <th>198</th>\n      <td>13.00</td>\n      <td>2.00</td>\n      <td>Female</td>\n      <td>Yes</td>\n      <td>Thur</td>\n      <td>Lunch</td>\n      <td>2</td>\n      <td>6.50</td>\n      <td>Katherine Bond</td>\n      <td>4926725945192</td>\n      <td>Thur437</td>\n    </tr>\n    <tr>\n      <th>171</th>\n      <td>15.81</td>\n      <td>3.16</td>\n      <td>Male</td>\n      <td>Yes</td>\n      <td>Sat</td>\n      <td>Dinner</td>\n      <td>2</td>\n      <td>7.90</td>\n      <td>David Hall</td>\n      <td>502004138207</td>\n      <td>Sat6750</td>\n    </tr>\n    <tr>\n      <th>88</th>\n      <td>24.71</td>\n      <td>5.85</td>\n      <td>Male</td>\n      <td>No</td>\n      <td>Thur</td>\n      <td>Lunch</td>\n      <td>2</td>\n      <td>12.36</td>\n      <td>Roger Taylor</td>\n      <td>4410248629955</td>\n      <td>Thur9003</td>\n    </tr>\n    <tr>\n      <th>48</th>\n      <td>28.55</td>\n      <td>2.05</td>\n      <td>Male</td>\n      <td>No</td>\n      <td>Sun</td>\n      <td>Dinner</td>\n      <td>3</td>\n      <td>9.52</td>\n      <td>Austin Fisher</td>\n      <td>6011481668986587</td>\n      <td>Sun4142</td>\n    </tr>\n    <tr>\n      <th>151</th>\n      <td>13.13</td>\n      <td>2.00</td>\n      <td>Male</td>\n      <td>No</td>\n      <td>Sun</td>\n      <td>Dinner</td>\n      <td>2</td>\n      <td>6.56</td>\n      <td>Jason Arnold</td>\n      <td>3571825125296106</td>\n      <td>Sun2127</td>\n    </tr>\n    <tr>\n      <th>216</th>\n      <td>28.15</td>\n      <td>3.00</td>\n      <td>Male</td>\n      <td>Yes</td>\n      <td>Sat</td>\n      <td>Dinner</td>\n      <td>5</td>\n      <td>5.63</td>\n      <td>Shawn Barnett PhD</td>\n      <td>4590982568244</td>\n      <td>Sat7320</td>\n    </tr>\n    <tr>\n      <th>24</th>\n      <td>19.82</td>\n      <td>3.18</td>\n      <td>Male</td>\n      <td>No</td>\n      <td>Sat</td>\n      <td>Dinner</td>\n      <td>2</td>\n      <td>9.91</td>\n      <td>Christopher Ross</td>\n      <td>36739148167928</td>\n      <td>Sat6236</td>\n    </tr>\n    <tr>\n      <th>122</th>\n      <td>14.26</td>\n      <td>2.50</td>\n      <td>Male</td>\n      <td>No</td>\n      <td>Thur</td>\n      <td>Lunch</td>\n      <td>2</td>\n      <td>7.13</td>\n      <td>Perry Garcia</td>\n      <td>180034646320219</td>\n      <td>Thur3579</td>\n    </tr>\n    <tr>\n      <th>17</th>\n      <td>16.29</td>\n      <td>3.71</td>\n      <td>Male</td>\n      <td>No</td>\n      <td>Sun</td>\n      <td>Dinner</td>\n      <td>3</td>\n      <td>5.43</td>\n      <td>John Pittman</td>\n      <td>6521340257218708</td>\n      <td>Sun2998</td>\n    </tr>\n    <tr>\n      <th>169</th>\n      <td>10.63</td>\n      <td>2.00</td>\n      <td>Female</td>\n      <td>Yes</td>\n      <td>Sat</td>\n      <td>Dinner</td>\n      <td>2</td>\n      <td>5.32</td>\n      <td>Amy Hill</td>\n      <td>3536332481454019</td>\n      <td>Sat1788</td>\n    </tr>\n  </tbody>\n</table>\n</div>"
          },
          "metadata": {}
        }
      ],
      "execution_count": 83
    },
    {
      "cell_type": "code",
      "source": "",
      "metadata": {
        "trusted": true
      },
      "outputs": [],
      "execution_count": null
    }
  ]
}