{
  "metadata": {
    "kernelspec": {
      "name": "python",
      "display_name": "Python (Pyodide)",
      "language": "python"
    },
    "language_info": {
      "codemirror_mode": {
        "name": "python",
        "version": 3
      },
      "file_extension": ".py",
      "mimetype": "text/x-python",
      "name": "python",
      "nbconvert_exporter": "python",
      "pygments_lexer": "ipython3",
      "version": "3.8"
    }
  },
  "nbformat_minor": 4,
  "nbformat": 4,
  "cells": [
    {
      "cell_type": "markdown",
      "source": "# Combining DataFrames in pandas\n\n##### - Concatenation <br/>\n##### - Inner Merge <br/>\n##### - Left & Right Merge <br/>\n##### - outer Merge <br/>",
      "metadata": {}
    },
    {
      "cell_type": "markdown",
      "source": "#### concatenation",
      "metadata": {}
    },
    {
      "cell_type": "code",
      "source": "# Concatenation --> combining together two dataframes tables of same format in clomns, NB - we can concatenate two df on rows \n\n# .concat() method\n\nimport numpy as np\nimport pandas as pd",
      "metadata": {
        "trusted": true
      },
      "outputs": [],
      "execution_count": 34
    },
    {
      "cell_type": "code",
      "source": "\ndata_one = {'A':['a0','a1','a2','a3'], 'B':['b0','b1','b2','b3'] }\n\ndata_two = {'C':['c0','c1','c2','c3'], 'D':['d0','d1','d2','d3'] }",
      "metadata": {
        "trusted": true
      },
      "outputs": [],
      "execution_count": 8
    },
    {
      "cell_type": "code",
      "source": "\none = pd.DataFrame(data_one)\ntwo = pd.DataFrame(data_two)  # create pandas df one & two out python dict data",
      "metadata": {
        "trusted": true
      },
      "outputs": [],
      "execution_count": 9
    },
    {
      "cell_type": "code",
      "source": "one",
      "metadata": {
        "trusted": true
      },
      "outputs": [
        {
          "execution_count": 10,
          "output_type": "execute_result",
          "data": {
            "text/plain": "    A   B\n0  a0  b0\n1  a1  b1\n2  a2  b2\n3  a3  b3",
            "text/html": "<div>\n<style scoped>\n    .dataframe tbody tr th:only-of-type {\n        vertical-align: middle;\n    }\n\n    .dataframe tbody tr th {\n        vertical-align: top;\n    }\n\n    .dataframe thead th {\n        text-align: right;\n    }\n</style>\n<table border=\"1\" class=\"dataframe\">\n  <thead>\n    <tr style=\"text-align: right;\">\n      <th></th>\n      <th>A</th>\n      <th>B</th>\n    </tr>\n  </thead>\n  <tbody>\n    <tr>\n      <th>0</th>\n      <td>a0</td>\n      <td>b0</td>\n    </tr>\n    <tr>\n      <th>1</th>\n      <td>a1</td>\n      <td>b1</td>\n    </tr>\n    <tr>\n      <th>2</th>\n      <td>a2</td>\n      <td>b2</td>\n    </tr>\n    <tr>\n      <th>3</th>\n      <td>a3</td>\n      <td>b3</td>\n    </tr>\n  </tbody>\n</table>\n</div>"
          },
          "metadata": {}
        }
      ],
      "execution_count": 10
    },
    {
      "cell_type": "code",
      "source": "two",
      "metadata": {
        "trusted": true
      },
      "outputs": [
        {
          "execution_count": 11,
          "output_type": "execute_result",
          "data": {
            "text/plain": "    C   D\n0  c0  d0\n1  c1  d1\n2  c2  d2\n3  c3  d3",
            "text/html": "<div>\n<style scoped>\n    .dataframe tbody tr th:only-of-type {\n        vertical-align: middle;\n    }\n\n    .dataframe tbody tr th {\n        vertical-align: top;\n    }\n\n    .dataframe thead th {\n        text-align: right;\n    }\n</style>\n<table border=\"1\" class=\"dataframe\">\n  <thead>\n    <tr style=\"text-align: right;\">\n      <th></th>\n      <th>C</th>\n      <th>D</th>\n    </tr>\n  </thead>\n  <tbody>\n    <tr>\n      <th>0</th>\n      <td>c0</td>\n      <td>d0</td>\n    </tr>\n    <tr>\n      <th>1</th>\n      <td>c1</td>\n      <td>d1</td>\n    </tr>\n    <tr>\n      <th>2</th>\n      <td>c2</td>\n      <td>d2</td>\n    </tr>\n    <tr>\n      <th>3</th>\n      <td>c3</td>\n      <td>d3</td>\n    </tr>\n  </tbody>\n</table>\n</div>"
          },
          "metadata": {}
        }
      ],
      "execution_count": 11
    },
    {
      "cell_type": "code",
      "source": "#concatenate along column --->  since both df has same index position\n\npd.concat([one, two], axis = 1)  # ---> concatenate one & two in column same df table \n",
      "metadata": {
        "trusted": true
      },
      "outputs": [
        {
          "execution_count": 13,
          "output_type": "execute_result",
          "data": {
            "text/plain": "    A   B   C   D\n0  a0  b0  c0  d0\n1  a1  b1  c1  d1\n2  a2  b2  c2  d2\n3  a3  b3  c3  d3",
            "text/html": "<div>\n<style scoped>\n    .dataframe tbody tr th:only-of-type {\n        vertical-align: middle;\n    }\n\n    .dataframe tbody tr th {\n        vertical-align: top;\n    }\n\n    .dataframe thead th {\n        text-align: right;\n    }\n</style>\n<table border=\"1\" class=\"dataframe\">\n  <thead>\n    <tr style=\"text-align: right;\">\n      <th></th>\n      <th>A</th>\n      <th>B</th>\n      <th>C</th>\n      <th>D</th>\n    </tr>\n  </thead>\n  <tbody>\n    <tr>\n      <th>0</th>\n      <td>a0</td>\n      <td>b0</td>\n      <td>c0</td>\n      <td>d0</td>\n    </tr>\n    <tr>\n      <th>1</th>\n      <td>a1</td>\n      <td>b1</td>\n      <td>c1</td>\n      <td>d1</td>\n    </tr>\n    <tr>\n      <th>2</th>\n      <td>a2</td>\n      <td>b2</td>\n      <td>c2</td>\n      <td>d2</td>\n    </tr>\n    <tr>\n      <th>3</th>\n      <td>a3</td>\n      <td>b3</td>\n      <td>c3</td>\n      <td>d3</td>\n    </tr>\n  </tbody>\n</table>\n</div>"
          },
          "metadata": {}
        }
      ],
      "execution_count": 13
    },
    {
      "cell_type": "code",
      "source": "pd.concat([two, one], axis = 1)",
      "metadata": {
        "trusted": true
      },
      "outputs": [
        {
          "execution_count": 15,
          "output_type": "execute_result",
          "data": {
            "text/plain": "    C   D   A   B\n0  c0  d0  a0  b0\n1  c1  d1  a1  b1\n2  c2  d2  a2  b2\n3  c3  d3  a3  b3",
            "text/html": "<div>\n<style scoped>\n    .dataframe tbody tr th:only-of-type {\n        vertical-align: middle;\n    }\n\n    .dataframe tbody tr th {\n        vertical-align: top;\n    }\n\n    .dataframe thead th {\n        text-align: right;\n    }\n</style>\n<table border=\"1\" class=\"dataframe\">\n  <thead>\n    <tr style=\"text-align: right;\">\n      <th></th>\n      <th>C</th>\n      <th>D</th>\n      <th>A</th>\n      <th>B</th>\n    </tr>\n  </thead>\n  <tbody>\n    <tr>\n      <th>0</th>\n      <td>c0</td>\n      <td>d0</td>\n      <td>a0</td>\n      <td>b0</td>\n    </tr>\n    <tr>\n      <th>1</th>\n      <td>c1</td>\n      <td>d1</td>\n      <td>a1</td>\n      <td>b1</td>\n    </tr>\n    <tr>\n      <th>2</th>\n      <td>c2</td>\n      <td>d2</td>\n      <td>a2</td>\n      <td>b2</td>\n    </tr>\n    <tr>\n      <th>3</th>\n      <td>c3</td>\n      <td>d3</td>\n      <td>a3</td>\n      <td>b3</td>\n    </tr>\n  </tbody>\n</table>\n</div>"
          },
          "metadata": {}
        }
      ],
      "execution_count": 15
    },
    {
      "cell_type": "code",
      "source": "# concatenate in rows\n\none",
      "metadata": {
        "trusted": true
      },
      "outputs": [
        {
          "execution_count": 16,
          "output_type": "execute_result",
          "data": {
            "text/plain": "    A   B\n0  a0  b0\n1  a1  b1\n2  a2  b2\n3  a3  b3",
            "text/html": "<div>\n<style scoped>\n    .dataframe tbody tr th:only-of-type {\n        vertical-align: middle;\n    }\n\n    .dataframe tbody tr th {\n        vertical-align: top;\n    }\n\n    .dataframe thead th {\n        text-align: right;\n    }\n</style>\n<table border=\"1\" class=\"dataframe\">\n  <thead>\n    <tr style=\"text-align: right;\">\n      <th></th>\n      <th>A</th>\n      <th>B</th>\n    </tr>\n  </thead>\n  <tbody>\n    <tr>\n      <th>0</th>\n      <td>a0</td>\n      <td>b0</td>\n    </tr>\n    <tr>\n      <th>1</th>\n      <td>a1</td>\n      <td>b1</td>\n    </tr>\n    <tr>\n      <th>2</th>\n      <td>a2</td>\n      <td>b2</td>\n    </tr>\n    <tr>\n      <th>3</th>\n      <td>a3</td>\n      <td>b3</td>\n    </tr>\n  </tbody>\n</table>\n</div>"
          },
          "metadata": {}
        }
      ],
      "execution_count": 16
    },
    {
      "cell_type": "code",
      "source": "two",
      "metadata": {
        "trusted": true
      },
      "outputs": [
        {
          "execution_count": 17,
          "output_type": "execute_result",
          "data": {
            "text/plain": "    C   D\n0  c0  d0\n1  c1  d1\n2  c2  d2\n3  c3  d3",
            "text/html": "<div>\n<style scoped>\n    .dataframe tbody tr th:only-of-type {\n        vertical-align: middle;\n    }\n\n    .dataframe tbody tr th {\n        vertical-align: top;\n    }\n\n    .dataframe thead th {\n        text-align: right;\n    }\n</style>\n<table border=\"1\" class=\"dataframe\">\n  <thead>\n    <tr style=\"text-align: right;\">\n      <th></th>\n      <th>C</th>\n      <th>D</th>\n    </tr>\n  </thead>\n  <tbody>\n    <tr>\n      <th>0</th>\n      <td>c0</td>\n      <td>d0</td>\n    </tr>\n    <tr>\n      <th>1</th>\n      <td>c1</td>\n      <td>d1</td>\n    </tr>\n    <tr>\n      <th>2</th>\n      <td>c2</td>\n      <td>d2</td>\n    </tr>\n    <tr>\n      <th>3</th>\n      <td>c3</td>\n      <td>d3</td>\n    </tr>\n  </tbody>\n</table>\n</div>"
          },
          "metadata": {}
        }
      ],
      "execution_count": 17
    },
    {
      "cell_type": "code",
      "source": "\npd.concat([one, two], axis = 0)  # ---> concatenate one & two in rows, \n                     \n# NB --->***pandas also fills in half of row data wit NULL to signify a difference between A,B column and C,D column in df one & two, thus repeats the index 0 t0 3 for one & then for two  ",
      "metadata": {
        "trusted": true
      },
      "outputs": [
        {
          "execution_count": 21,
          "output_type": "execute_result",
          "data": {
            "text/plain": "     A    B    C    D\n0   a0   b0  NaN  NaN\n1   a1   b1  NaN  NaN\n2   a2   b2  NaN  NaN\n3   a3   b3  NaN  NaN\n0  NaN  NaN   c0   d0\n1  NaN  NaN   c1   d1\n2  NaN  NaN   c2   d2\n3  NaN  NaN   c3   d3",
            "text/html": "<div>\n<style scoped>\n    .dataframe tbody tr th:only-of-type {\n        vertical-align: middle;\n    }\n\n    .dataframe tbody tr th {\n        vertical-align: top;\n    }\n\n    .dataframe thead th {\n        text-align: right;\n    }\n</style>\n<table border=\"1\" class=\"dataframe\">\n  <thead>\n    <tr style=\"text-align: right;\">\n      <th></th>\n      <th>A</th>\n      <th>B</th>\n      <th>C</th>\n      <th>D</th>\n    </tr>\n  </thead>\n  <tbody>\n    <tr>\n      <th>0</th>\n      <td>a0</td>\n      <td>b0</td>\n      <td>NaN</td>\n      <td>NaN</td>\n    </tr>\n    <tr>\n      <th>1</th>\n      <td>a1</td>\n      <td>b1</td>\n      <td>NaN</td>\n      <td>NaN</td>\n    </tr>\n    <tr>\n      <th>2</th>\n      <td>a2</td>\n      <td>b2</td>\n      <td>NaN</td>\n      <td>NaN</td>\n    </tr>\n    <tr>\n      <th>3</th>\n      <td>a3</td>\n      <td>b3</td>\n      <td>NaN</td>\n      <td>NaN</td>\n    </tr>\n    <tr>\n      <th>0</th>\n      <td>NaN</td>\n      <td>NaN</td>\n      <td>c0</td>\n      <td>d0</td>\n    </tr>\n    <tr>\n      <th>1</th>\n      <td>NaN</td>\n      <td>NaN</td>\n      <td>c1</td>\n      <td>d1</td>\n    </tr>\n    <tr>\n      <th>2</th>\n      <td>NaN</td>\n      <td>NaN</td>\n      <td>c2</td>\n      <td>d2</td>\n    </tr>\n    <tr>\n      <th>3</th>\n      <td>NaN</td>\n      <td>NaN</td>\n      <td>c3</td>\n      <td>d3</td>\n    </tr>\n  </tbody>\n</table>\n</div>"
          },
          "metadata": {}
        }
      ],
      "execution_count": 21
    },
    {
      "cell_type": "code",
      "source": "# relabeled column in rows concatenate of two df - one & two ---> by renaming column of df same as othe\n\ntwo.columns = one.columns  # ---> rename column of table two same as table one keeping it original value, eg - we learnt that column A, B is same property of C, D\n\ntwo",
      "metadata": {
        "trusted": true
      },
      "outputs": [
        {
          "execution_count": 26,
          "output_type": "execute_result",
          "data": {
            "text/plain": "    A   B\n0  c0  d0\n1  c1  d1\n2  c2  d2\n3  c3  d3",
            "text/html": "<div>\n<style scoped>\n    .dataframe tbody tr th:only-of-type {\n        vertical-align: middle;\n    }\n\n    .dataframe tbody tr th {\n        vertical-align: top;\n    }\n\n    .dataframe thead th {\n        text-align: right;\n    }\n</style>\n<table border=\"1\" class=\"dataframe\">\n  <thead>\n    <tr style=\"text-align: right;\">\n      <th></th>\n      <th>A</th>\n      <th>B</th>\n    </tr>\n  </thead>\n  <tbody>\n    <tr>\n      <th>0</th>\n      <td>c0</td>\n      <td>d0</td>\n    </tr>\n    <tr>\n      <th>1</th>\n      <td>c1</td>\n      <td>d1</td>\n    </tr>\n    <tr>\n      <th>2</th>\n      <td>c2</td>\n      <td>d2</td>\n    </tr>\n    <tr>\n      <th>3</th>\n      <td>c3</td>\n      <td>d3</td>\n    </tr>\n  </tbody>\n</table>\n</div>"
          },
          "metadata": {}
        }
      ],
      "execution_count": 26
    },
    {
      "cell_type": "code",
      "source": "pd.concat([one, two], axis=0)  # ---> concatenate df table one & two into single df table with column A & B with 8 rows but have duplicate index   ",
      "metadata": {
        "trusted": true
      },
      "outputs": [
        {
          "execution_count": 28,
          "output_type": "execute_result",
          "data": {
            "text/plain": "    A   B\n0  a0  b0\n1  a1  b1\n2  a2  b2\n3  a3  b3\n0  c0  d0\n1  c1  d1\n2  c2  d2\n3  c3  d3",
            "text/html": "<div>\n<style scoped>\n    .dataframe tbody tr th:only-of-type {\n        vertical-align: middle;\n    }\n\n    .dataframe tbody tr th {\n        vertical-align: top;\n    }\n\n    .dataframe thead th {\n        text-align: right;\n    }\n</style>\n<table border=\"1\" class=\"dataframe\">\n  <thead>\n    <tr style=\"text-align: right;\">\n      <th></th>\n      <th>A</th>\n      <th>B</th>\n    </tr>\n  </thead>\n  <tbody>\n    <tr>\n      <th>0</th>\n      <td>a0</td>\n      <td>b0</td>\n    </tr>\n    <tr>\n      <th>1</th>\n      <td>a1</td>\n      <td>b1</td>\n    </tr>\n    <tr>\n      <th>2</th>\n      <td>a2</td>\n      <td>b2</td>\n    </tr>\n    <tr>\n      <th>3</th>\n      <td>a3</td>\n      <td>b3</td>\n    </tr>\n    <tr>\n      <th>0</th>\n      <td>c0</td>\n      <td>d0</td>\n    </tr>\n    <tr>\n      <th>1</th>\n      <td>c1</td>\n      <td>d1</td>\n    </tr>\n    <tr>\n      <th>2</th>\n      <td>c2</td>\n      <td>d2</td>\n    </tr>\n    <tr>\n      <th>3</th>\n      <td>c3</td>\n      <td>d3</td>\n    </tr>\n  </tbody>\n</table>\n</div>"
          },
          "metadata": {}
        }
      ],
      "execution_count": 28
    },
    {
      "cell_type": "code",
      "source": "# reindex - duplicate index in row conctenate of two df with same index\n\nmydf = pd.concat([one, two], axis=0)",
      "metadata": {
        "trusted": true
      },
      "outputs": [],
      "execution_count": 33
    },
    {
      "cell_type": "code",
      "source": "mydf.index",
      "metadata": {
        "trusted": true
      },
      "outputs": [
        {
          "execution_count": 35,
          "output_type": "execute_result",
          "data": {
            "text/plain": "RangeIndex(start=0, stop=8, step=1)"
          },
          "metadata": {}
        }
      ],
      "execution_count": 35
    },
    {
      "cell_type": "code",
      "source": "mydf.index = range(len(mydf))",
      "metadata": {
        "trusted": true
      },
      "outputs": [],
      "execution_count": 36
    },
    {
      "cell_type": "code",
      "source": "mydf",
      "metadata": {
        "trusted": true
      },
      "outputs": [
        {
          "execution_count": 37,
          "output_type": "execute_result",
          "data": {
            "text/plain": "    A   B\n0  a0  b0\n1  a1  b1\n2  a2  b2\n3  a3  b3\n4  c0  d0\n5  c1  d1\n6  c2  d2\n7  c3  d3",
            "text/html": "<div>\n<style scoped>\n    .dataframe tbody tr th:only-of-type {\n        vertical-align: middle;\n    }\n\n    .dataframe tbody tr th {\n        vertical-align: top;\n    }\n\n    .dataframe thead th {\n        text-align: right;\n    }\n</style>\n<table border=\"1\" class=\"dataframe\">\n  <thead>\n    <tr style=\"text-align: right;\">\n      <th></th>\n      <th>A</th>\n      <th>B</th>\n    </tr>\n  </thead>\n  <tbody>\n    <tr>\n      <th>0</th>\n      <td>a0</td>\n      <td>b0</td>\n    </tr>\n    <tr>\n      <th>1</th>\n      <td>a1</td>\n      <td>b1</td>\n    </tr>\n    <tr>\n      <th>2</th>\n      <td>a2</td>\n      <td>b2</td>\n    </tr>\n    <tr>\n      <th>3</th>\n      <td>a3</td>\n      <td>b3</td>\n    </tr>\n    <tr>\n      <th>4</th>\n      <td>c0</td>\n      <td>d0</td>\n    </tr>\n    <tr>\n      <th>5</th>\n      <td>c1</td>\n      <td>d1</td>\n    </tr>\n    <tr>\n      <th>6</th>\n      <td>c2</td>\n      <td>d2</td>\n    </tr>\n    <tr>\n      <th>7</th>\n      <td>c3</td>\n      <td>d3</td>\n    </tr>\n  </tbody>\n</table>\n</div>"
          },
          "metadata": {}
        }
      ],
      "execution_count": 37
    },
    {
      "cell_type": "code",
      "source": "thr = two",
      "metadata": {
        "trusted": true
      },
      "outputs": [],
      "execution_count": 38
    },
    {
      "cell_type": "code",
      "source": "thr",
      "metadata": {
        "trusted": true
      },
      "outputs": [
        {
          "execution_count": 39,
          "output_type": "execute_result",
          "data": {
            "text/plain": "    A   B\n0  c0  d0\n1  c1  d1\n2  c2  d2\n3  c3  d3",
            "text/html": "<div>\n<style scoped>\n    .dataframe tbody tr th:only-of-type {\n        vertical-align: middle;\n    }\n\n    .dataframe tbody tr th {\n        vertical-align: top;\n    }\n\n    .dataframe thead th {\n        text-align: right;\n    }\n</style>\n<table border=\"1\" class=\"dataframe\">\n  <thead>\n    <tr style=\"text-align: right;\">\n      <th></th>\n      <th>A</th>\n      <th>B</th>\n    </tr>\n  </thead>\n  <tbody>\n    <tr>\n      <th>0</th>\n      <td>c0</td>\n      <td>d0</td>\n    </tr>\n    <tr>\n      <th>1</th>\n      <td>c1</td>\n      <td>d1</td>\n    </tr>\n    <tr>\n      <th>2</th>\n      <td>c2</td>\n      <td>d2</td>\n    </tr>\n    <tr>\n      <th>3</th>\n      <td>c3</td>\n      <td>d3</td>\n    </tr>\n  </tbody>\n</table>\n</div>"
          },
          "metadata": {}
        }
      ],
      "execution_count": 39
    },
    {
      "cell_type": "code",
      "source": "pd.concat([thr, two], axis=1)",
      "metadata": {
        "trusted": true
      },
      "outputs": [
        {
          "execution_count": 41,
          "output_type": "execute_result",
          "data": {
            "text/plain": "    A   B   A   B\n0  c0  d0  c0  d0\n1  c1  d1  c1  d1\n2  c2  d2  c2  d2\n3  c3  d3  c3  d3",
            "text/html": "<div>\n<style scoped>\n    .dataframe tbody tr th:only-of-type {\n        vertical-align: middle;\n    }\n\n    .dataframe tbody tr th {\n        vertical-align: top;\n    }\n\n    .dataframe thead th {\n        text-align: right;\n    }\n</style>\n<table border=\"1\" class=\"dataframe\">\n  <thead>\n    <tr style=\"text-align: right;\">\n      <th></th>\n      <th>A</th>\n      <th>B</th>\n      <th>A</th>\n      <th>B</th>\n    </tr>\n  </thead>\n  <tbody>\n    <tr>\n      <th>0</th>\n      <td>c0</td>\n      <td>d0</td>\n      <td>c0</td>\n      <td>d0</td>\n    </tr>\n    <tr>\n      <th>1</th>\n      <td>c1</td>\n      <td>d1</td>\n      <td>c1</td>\n      <td>d1</td>\n    </tr>\n    <tr>\n      <th>2</th>\n      <td>c2</td>\n      <td>d2</td>\n      <td>c2</td>\n      <td>d2</td>\n    </tr>\n    <tr>\n      <th>3</th>\n      <td>c3</td>\n      <td>d3</td>\n      <td>c3</td>\n      <td>d3</td>\n    </tr>\n  </tbody>\n</table>\n</div>"
          },
          "metadata": {}
        }
      ],
      "execution_count": 41
    },
    {
      "cell_type": "markdown",
      "source": "#### Merge\n>  - Inner Merge <br/>\n>  - Left or Right Merge <br/>\n>  - Outer Merge <br/>",
      "metadata": {}
    },
    {
      "cell_type": "markdown",
      "source": "##### Inner Merge",
      "metadata": {}
    },
    {
      "cell_type": "code",
      "source": "# Inner Merge ----> we use merge method to join/ concatenate two df table when their is different\n\n# .merge() method ---> same as in JOIN methods in SQL\n\nregistration = pd.DataFrame({'reg_id':[1,2,3,4], 'name':['bob','dilon','adam','henry']})\n\nlogin = pd.DataFrame({'login_id':[1,2,3,4], 'name':['adam','parker','henry','xixiang']})   # ---> creating registration & login df table",
      "metadata": {
        "trusted": true
      },
      "outputs": [],
      "execution_count": 35
    },
    {
      "cell_type": "code",
      "source": "registration",
      "metadata": {
        "trusted": true
      },
      "outputs": [
        {
          "execution_count": 36,
          "output_type": "execute_result",
          "data": {
            "text/plain": "   reg_id   name\n0       1    bob\n1       2  dilon\n2       3   adam\n3       4  henry",
            "text/html": "<div>\n<style scoped>\n    .dataframe tbody tr th:only-of-type {\n        vertical-align: middle;\n    }\n\n    .dataframe tbody tr th {\n        vertical-align: top;\n    }\n\n    .dataframe thead th {\n        text-align: right;\n    }\n</style>\n<table border=\"1\" class=\"dataframe\">\n  <thead>\n    <tr style=\"text-align: right;\">\n      <th></th>\n      <th>reg_id</th>\n      <th>name</th>\n    </tr>\n  </thead>\n  <tbody>\n    <tr>\n      <th>0</th>\n      <td>1</td>\n      <td>bob</td>\n    </tr>\n    <tr>\n      <th>1</th>\n      <td>2</td>\n      <td>dilon</td>\n    </tr>\n    <tr>\n      <th>2</th>\n      <td>3</td>\n      <td>adam</td>\n    </tr>\n    <tr>\n      <th>3</th>\n      <td>4</td>\n      <td>henry</td>\n    </tr>\n  </tbody>\n</table>\n</div>"
          },
          "metadata": {}
        }
      ],
      "execution_count": 36
    },
    {
      "cell_type": "code",
      "source": "login",
      "metadata": {
        "trusted": true
      },
      "outputs": [
        {
          "execution_count": 37,
          "output_type": "execute_result",
          "data": {
            "text/plain": "   login_id     name\n0         1     adam\n1         2   parker\n2         3    henry\n3         4  xixiang",
            "text/html": "<div>\n<style scoped>\n    .dataframe tbody tr th:only-of-type {\n        vertical-align: middle;\n    }\n\n    .dataframe tbody tr th {\n        vertical-align: top;\n    }\n\n    .dataframe thead th {\n        text-align: right;\n    }\n</style>\n<table border=\"1\" class=\"dataframe\">\n  <thead>\n    <tr style=\"text-align: right;\">\n      <th></th>\n      <th>login_id</th>\n      <th>name</th>\n    </tr>\n  </thead>\n  <tbody>\n    <tr>\n      <th>0</th>\n      <td>1</td>\n      <td>adam</td>\n    </tr>\n    <tr>\n      <th>1</th>\n      <td>2</td>\n      <td>parker</td>\n    </tr>\n    <tr>\n      <th>2</th>\n      <td>3</td>\n      <td>henry</td>\n    </tr>\n    <tr>\n      <th>3</th>\n      <td>4</td>\n      <td>xixiang</td>\n    </tr>\n  </tbody>\n</table>\n</div>"
          },
          "metadata": {}
        }
      ],
      "execution_count": 37
    },
    {
      "cell_type": "code",
      "source": "pd.merge(registration, login, on='name', how='inner')  # ---> inner merge between registration & login with *on (should be a column, uqinue & common on two table  ) \n\n# NB - for inner join/merge, we are taking only datas presents in both table ",
      "metadata": {
        "trusted": true
      },
      "outputs": [
        {
          "execution_count": 38,
          "output_type": "execute_result",
          "data": {
            "text/plain": "   reg_id   name  login_id\n0       3   adam         1\n1       4  henry         3",
            "text/html": "<div>\n<style scoped>\n    .dataframe tbody tr th:only-of-type {\n        vertical-align: middle;\n    }\n\n    .dataframe tbody tr th {\n        vertical-align: top;\n    }\n\n    .dataframe thead th {\n        text-align: right;\n    }\n</style>\n<table border=\"1\" class=\"dataframe\">\n  <thead>\n    <tr style=\"text-align: right;\">\n      <th></th>\n      <th>reg_id</th>\n      <th>name</th>\n      <th>login_id</th>\n    </tr>\n  </thead>\n  <tbody>\n    <tr>\n      <th>0</th>\n      <td>3</td>\n      <td>adam</td>\n      <td>1</td>\n    </tr>\n    <tr>\n      <th>1</th>\n      <td>4</td>\n      <td>henry</td>\n      <td>3</td>\n    </tr>\n  </tbody>\n</table>\n</div>"
          },
          "metadata": {}
        }
      ],
      "execution_count": 38
    },
    {
      "cell_type": "code",
      "source": "# help(pd.merge) ---> doc on pd.merge()",
      "metadata": {
        "trusted": true
      },
      "outputs": [],
      "execution_count": 60
    },
    {
      "cell_type": "markdown",
      "source": "##### Left or Right Merge",
      "metadata": {}
    },
    {
      "cell_type": "code",
      "source": "#NB :- order of table pass in as args matters ---> first table is Left one & second table paas in is the Right one\n\nregistration",
      "metadata": {
        "trusted": true
      },
      "outputs": [
        {
          "execution_count": 40,
          "output_type": "execute_result",
          "data": {
            "text/plain": "   reg_id   name\n0       1    bob\n1       2  dilon\n2       3   adam\n3       4  henry",
            "text/html": "<div>\n<style scoped>\n    .dataframe tbody tr th:only-of-type {\n        vertical-align: middle;\n    }\n\n    .dataframe tbody tr th {\n        vertical-align: top;\n    }\n\n    .dataframe thead th {\n        text-align: right;\n    }\n</style>\n<table border=\"1\" class=\"dataframe\">\n  <thead>\n    <tr style=\"text-align: right;\">\n      <th></th>\n      <th>reg_id</th>\n      <th>name</th>\n    </tr>\n  </thead>\n  <tbody>\n    <tr>\n      <th>0</th>\n      <td>1</td>\n      <td>bob</td>\n    </tr>\n    <tr>\n      <th>1</th>\n      <td>2</td>\n      <td>dilon</td>\n    </tr>\n    <tr>\n      <th>2</th>\n      <td>3</td>\n      <td>adam</td>\n    </tr>\n    <tr>\n      <th>3</th>\n      <td>4</td>\n      <td>henry</td>\n    </tr>\n  </tbody>\n</table>\n</div>"
          },
          "metadata": {}
        }
      ],
      "execution_count": 40
    },
    {
      "cell_type": "code",
      "source": "login",
      "metadata": {
        "trusted": true
      },
      "outputs": [
        {
          "execution_count": 41,
          "output_type": "execute_result",
          "data": {
            "text/plain": "   login_id     name\n0         1     adam\n1         2   parker\n2         3    henry\n3         4  xixiang",
            "text/html": "<div>\n<style scoped>\n    .dataframe tbody tr th:only-of-type {\n        vertical-align: middle;\n    }\n\n    .dataframe tbody tr th {\n        vertical-align: top;\n    }\n\n    .dataframe thead th {\n        text-align: right;\n    }\n</style>\n<table border=\"1\" class=\"dataframe\">\n  <thead>\n    <tr style=\"text-align: right;\">\n      <th></th>\n      <th>login_id</th>\n      <th>name</th>\n    </tr>\n  </thead>\n  <tbody>\n    <tr>\n      <th>0</th>\n      <td>1</td>\n      <td>adam</td>\n    </tr>\n    <tr>\n      <th>1</th>\n      <td>2</td>\n      <td>parker</td>\n    </tr>\n    <tr>\n      <th>2</th>\n      <td>3</td>\n      <td>henry</td>\n    </tr>\n    <tr>\n      <th>3</th>\n      <td>4</td>\n      <td>xixiang</td>\n    </tr>\n  </tbody>\n</table>\n</div>"
          },
          "metadata": {}
        }
      ],
      "execution_count": 41
    },
    {
      "cell_type": "code",
      "source": "# Left Merge --> eg: - taking login table as the Left table\n\npd.merge(login, registration, on='name', how='left')  # --> returns name column with all names in left login table with its login_id \n                                                    #& some NULL in reg_id column  of right registration table for names not prests in login table",
      "metadata": {
        "trusted": true
      },
      "outputs": [
        {
          "execution_count": 42,
          "output_type": "execute_result",
          "data": {
            "text/plain": "   login_id     name  reg_id\n0         1     adam     3.0\n1         2   parker     NaN\n2         3    henry     4.0\n3         4  xixiang     NaN",
            "text/html": "<div>\n<style scoped>\n    .dataframe tbody tr th:only-of-type {\n        vertical-align: middle;\n    }\n\n    .dataframe tbody tr th {\n        vertical-align: top;\n    }\n\n    .dataframe thead th {\n        text-align: right;\n    }\n</style>\n<table border=\"1\" class=\"dataframe\">\n  <thead>\n    <tr style=\"text-align: right;\">\n      <th></th>\n      <th>login_id</th>\n      <th>name</th>\n      <th>reg_id</th>\n    </tr>\n  </thead>\n  <tbody>\n    <tr>\n      <th>0</th>\n      <td>1</td>\n      <td>adam</td>\n      <td>3.0</td>\n    </tr>\n    <tr>\n      <th>1</th>\n      <td>2</td>\n      <td>parker</td>\n      <td>NaN</td>\n    </tr>\n    <tr>\n      <th>2</th>\n      <td>3</td>\n      <td>henry</td>\n      <td>4.0</td>\n    </tr>\n    <tr>\n      <th>3</th>\n      <td>4</td>\n      <td>xixiang</td>\n      <td>NaN</td>\n    </tr>\n  </tbody>\n</table>\n</div>"
          },
          "metadata": {}
        }
      ],
      "execution_count": 42
    },
    {
      "cell_type": "code",
      "source": "#Right Merge ---> opposite of left meerge - i.e all datas (on **column) in right table must be present\n\npd.merge(login, registration, on='name', how='right')",
      "metadata": {
        "trusted": true
      },
      "outputs": [
        {
          "execution_count": 43,
          "output_type": "execute_result",
          "data": {
            "text/plain": "   login_id   name  reg_id\n0       NaN    bob       1\n1       NaN  dilon       2\n2       1.0   adam       3\n3       3.0  henry       4",
            "text/html": "<div>\n<style scoped>\n    .dataframe tbody tr th:only-of-type {\n        vertical-align: middle;\n    }\n\n    .dataframe tbody tr th {\n        vertical-align: top;\n    }\n\n    .dataframe thead th {\n        text-align: right;\n    }\n</style>\n<table border=\"1\" class=\"dataframe\">\n  <thead>\n    <tr style=\"text-align: right;\">\n      <th></th>\n      <th>login_id</th>\n      <th>name</th>\n      <th>reg_id</th>\n    </tr>\n  </thead>\n  <tbody>\n    <tr>\n      <th>0</th>\n      <td>NaN</td>\n      <td>bob</td>\n      <td>1</td>\n    </tr>\n    <tr>\n      <th>1</th>\n      <td>NaN</td>\n      <td>dilon</td>\n      <td>2</td>\n    </tr>\n    <tr>\n      <th>2</th>\n      <td>1.0</td>\n      <td>adam</td>\n      <td>3</td>\n    </tr>\n    <tr>\n      <th>3</th>\n      <td>3.0</td>\n      <td>henry</td>\n      <td>4</td>\n    </tr>\n  </tbody>\n</table>\n</div>"
          },
          "metadata": {}
        }
      ],
      "execution_count": 43
    },
    {
      "cell_type": "code",
      "source": "#NB --> i.e Right Merge, rifht table set the course for result output & vice versa for Left Merge ",
      "metadata": {
        "trusted": true
      },
      "outputs": [],
      "execution_count": 68
    },
    {
      "cell_type": "markdown",
      "source": "##### Outer Merge\n",
      "metadata": {}
    },
    {
      "cell_type": "code",
      "source": "# Outer Merge ---> merge everything present in both pandas df tables\n\nregistration ",
      "metadata": {
        "trusted": true
      },
      "outputs": [
        {
          "execution_count": 44,
          "output_type": "execute_result",
          "data": {
            "text/plain": "   reg_id   name\n0       1    bob\n1       2  dilon\n2       3   adam\n3       4  henry",
            "text/html": "<div>\n<style scoped>\n    .dataframe tbody tr th:only-of-type {\n        vertical-align: middle;\n    }\n\n    .dataframe tbody tr th {\n        vertical-align: top;\n    }\n\n    .dataframe thead th {\n        text-align: right;\n    }\n</style>\n<table border=\"1\" class=\"dataframe\">\n  <thead>\n    <tr style=\"text-align: right;\">\n      <th></th>\n      <th>reg_id</th>\n      <th>name</th>\n    </tr>\n  </thead>\n  <tbody>\n    <tr>\n      <th>0</th>\n      <td>1</td>\n      <td>bob</td>\n    </tr>\n    <tr>\n      <th>1</th>\n      <td>2</td>\n      <td>dilon</td>\n    </tr>\n    <tr>\n      <th>2</th>\n      <td>3</td>\n      <td>adam</td>\n    </tr>\n    <tr>\n      <th>3</th>\n      <td>4</td>\n      <td>henry</td>\n    </tr>\n  </tbody>\n</table>\n</div>"
          },
          "metadata": {}
        }
      ],
      "execution_count": 44
    },
    {
      "cell_type": "code",
      "source": "login",
      "metadata": {
        "trusted": true
      },
      "outputs": [
        {
          "execution_count": 45,
          "output_type": "execute_result",
          "data": {
            "text/plain": "   login_id     name\n0         1     adam\n1         2   parker\n2         3    henry\n3         4  xixiang",
            "text/html": "<div>\n<style scoped>\n    .dataframe tbody tr th:only-of-type {\n        vertical-align: middle;\n    }\n\n    .dataframe tbody tr th {\n        vertical-align: top;\n    }\n\n    .dataframe thead th {\n        text-align: right;\n    }\n</style>\n<table border=\"1\" class=\"dataframe\">\n  <thead>\n    <tr style=\"text-align: right;\">\n      <th></th>\n      <th>login_id</th>\n      <th>name</th>\n    </tr>\n  </thead>\n  <tbody>\n    <tr>\n      <th>0</th>\n      <td>1</td>\n      <td>adam</td>\n    </tr>\n    <tr>\n      <th>1</th>\n      <td>2</td>\n      <td>parker</td>\n    </tr>\n    <tr>\n      <th>2</th>\n      <td>3</td>\n      <td>henry</td>\n    </tr>\n    <tr>\n      <th>3</th>\n      <td>4</td>\n      <td>xixiang</td>\n    </tr>\n  </tbody>\n</table>\n</div>"
          },
          "metadata": {}
        }
      ],
      "execution_count": 45
    },
    {
      "cell_type": "code",
      "source": "pd.merge(registration, login, how='outer', on='name')  #---> grabs all the names in both table & fill in NUll value for datas not available ",
      "metadata": {
        "trusted": true
      },
      "outputs": [
        {
          "execution_count": 46,
          "output_type": "execute_result",
          "data": {
            "text/plain": "   reg_id     name  login_id\n0     3.0     adam       1.0\n1     1.0      bob       NaN\n2     2.0    dilon       NaN\n3     4.0    henry       3.0\n4     NaN   parker       2.0\n5     NaN  xixiang       4.0",
            "text/html": "<div>\n<style scoped>\n    .dataframe tbody tr th:only-of-type {\n        vertical-align: middle;\n    }\n\n    .dataframe tbody tr th {\n        vertical-align: top;\n    }\n\n    .dataframe thead th {\n        text-align: right;\n    }\n</style>\n<table border=\"1\" class=\"dataframe\">\n  <thead>\n    <tr style=\"text-align: right;\">\n      <th></th>\n      <th>reg_id</th>\n      <th>name</th>\n      <th>login_id</th>\n    </tr>\n  </thead>\n  <tbody>\n    <tr>\n      <th>0</th>\n      <td>3.0</td>\n      <td>adam</td>\n      <td>1.0</td>\n    </tr>\n    <tr>\n      <th>1</th>\n      <td>1.0</td>\n      <td>bob</td>\n      <td>NaN</td>\n    </tr>\n    <tr>\n      <th>2</th>\n      <td>2.0</td>\n      <td>dilon</td>\n      <td>NaN</td>\n    </tr>\n    <tr>\n      <th>3</th>\n      <td>4.0</td>\n      <td>henry</td>\n      <td>3.0</td>\n    </tr>\n    <tr>\n      <th>4</th>\n      <td>NaN</td>\n      <td>parker</td>\n      <td>2.0</td>\n    </tr>\n    <tr>\n      <th>5</th>\n      <td>NaN</td>\n      <td>xixiang</td>\n      <td>4.0</td>\n    </tr>\n  </tbody>\n</table>\n</div>"
          },
          "metadata": {}
        }
      ],
      "execution_count": 46
    },
    {
      "cell_type": "code",
      "source": "pd.merge(login, registration, how='outer', on='name') # ---> i.e, same like inner merge, order dont matter in outer merge ",
      "metadata": {
        "trusted": true
      },
      "outputs": [
        {
          "execution_count": 47,
          "output_type": "execute_result",
          "data": {
            "text/plain": "   login_id     name  reg_id\n0       1.0     adam     3.0\n1       NaN      bob     1.0\n2       NaN    dilon     2.0\n3       3.0    henry     4.0\n4       2.0   parker     NaN\n5       4.0  xixiang     NaN",
            "text/html": "<div>\n<style scoped>\n    .dataframe tbody tr th:only-of-type {\n        vertical-align: middle;\n    }\n\n    .dataframe tbody tr th {\n        vertical-align: top;\n    }\n\n    .dataframe thead th {\n        text-align: right;\n    }\n</style>\n<table border=\"1\" class=\"dataframe\">\n  <thead>\n    <tr style=\"text-align: right;\">\n      <th></th>\n      <th>login_id</th>\n      <th>name</th>\n      <th>reg_id</th>\n    </tr>\n  </thead>\n  <tbody>\n    <tr>\n      <th>0</th>\n      <td>1.0</td>\n      <td>adam</td>\n      <td>3.0</td>\n    </tr>\n    <tr>\n      <th>1</th>\n      <td>NaN</td>\n      <td>bob</td>\n      <td>1.0</td>\n    </tr>\n    <tr>\n      <th>2</th>\n      <td>NaN</td>\n      <td>dilon</td>\n      <td>2.0</td>\n    </tr>\n    <tr>\n      <th>3</th>\n      <td>3.0</td>\n      <td>henry</td>\n      <td>4.0</td>\n    </tr>\n    <tr>\n      <th>4</th>\n      <td>2.0</td>\n      <td>parker</td>\n      <td>NaN</td>\n    </tr>\n    <tr>\n      <th>5</th>\n      <td>4.0</td>\n      <td>xixiang</td>\n      <td>NaN</td>\n    </tr>\n  </tbody>\n</table>\n</div>"
          },
          "metadata": {}
        }
      ],
      "execution_count": 47
    },
    {
      "cell_type": "markdown",
      "source": "#####  Joining on index ",
      "metadata": {}
    },
    {
      "cell_type": "code",
      "source": "registration",
      "metadata": {
        "trusted": true
      },
      "outputs": [
        {
          "execution_count": 48,
          "output_type": "execute_result",
          "data": {
            "text/plain": "   reg_id   name\n0       1    bob\n1       2  dilon\n2       3   adam\n3       4  henry",
            "text/html": "<div>\n<style scoped>\n    .dataframe tbody tr th:only-of-type {\n        vertical-align: middle;\n    }\n\n    .dataframe tbody tr th {\n        vertical-align: top;\n    }\n\n    .dataframe thead th {\n        text-align: right;\n    }\n</style>\n<table border=\"1\" class=\"dataframe\">\n  <thead>\n    <tr style=\"text-align: right;\">\n      <th></th>\n      <th>reg_id</th>\n      <th>name</th>\n    </tr>\n  </thead>\n  <tbody>\n    <tr>\n      <th>0</th>\n      <td>1</td>\n      <td>bob</td>\n    </tr>\n    <tr>\n      <th>1</th>\n      <td>2</td>\n      <td>dilon</td>\n    </tr>\n    <tr>\n      <th>2</th>\n      <td>3</td>\n      <td>adam</td>\n    </tr>\n    <tr>\n      <th>3</th>\n      <td>4</td>\n      <td>henry</td>\n    </tr>\n  </tbody>\n</table>\n</div>"
          },
          "metadata": {}
        }
      ],
      "execution_count": 48
    },
    {
      "cell_type": "code",
      "source": "registration = registration.set_index('name')  # ---> set name column as the index of registration table",
      "metadata": {
        "trusted": true
      },
      "outputs": [],
      "execution_count": 49
    },
    {
      "cell_type": "code",
      "source": "registration",
      "metadata": {
        "trusted": true
      },
      "outputs": [
        {
          "execution_count": 50,
          "output_type": "execute_result",
          "data": {
            "text/plain": "       reg_id\nname         \nbob         1\ndilon       2\nadam        3\nhenry       4",
            "text/html": "<div>\n<style scoped>\n    .dataframe tbody tr th:only-of-type {\n        vertical-align: middle;\n    }\n\n    .dataframe tbody tr th {\n        vertical-align: top;\n    }\n\n    .dataframe thead th {\n        text-align: right;\n    }\n</style>\n<table border=\"1\" class=\"dataframe\">\n  <thead>\n    <tr style=\"text-align: right;\">\n      <th></th>\n      <th>reg_id</th>\n    </tr>\n    <tr>\n      <th>name</th>\n      <th></th>\n    </tr>\n  </thead>\n  <tbody>\n    <tr>\n      <th>bob</th>\n      <td>1</td>\n    </tr>\n    <tr>\n      <th>dilon</th>\n      <td>2</td>\n    </tr>\n    <tr>\n      <th>adam</th>\n      <td>3</td>\n    </tr>\n    <tr>\n      <th>henry</th>\n      <td>4</td>\n    </tr>\n  </tbody>\n</table>\n</div>"
          },
          "metadata": {}
        }
      ],
      "execution_count": 50
    },
    {
      "cell_type": "code",
      "source": "login",
      "metadata": {
        "trusted": true
      },
      "outputs": [
        {
          "execution_count": 51,
          "output_type": "execute_result",
          "data": {
            "text/plain": "   login_id     name\n0         1     adam\n1         2   parker\n2         3    henry\n3         4  xixiang",
            "text/html": "<div>\n<style scoped>\n    .dataframe tbody tr th:only-of-type {\n        vertical-align: middle;\n    }\n\n    .dataframe tbody tr th {\n        vertical-align: top;\n    }\n\n    .dataframe thead th {\n        text-align: right;\n    }\n</style>\n<table border=\"1\" class=\"dataframe\">\n  <thead>\n    <tr style=\"text-align: right;\">\n      <th></th>\n      <th>login_id</th>\n      <th>name</th>\n    </tr>\n  </thead>\n  <tbody>\n    <tr>\n      <th>0</th>\n      <td>1</td>\n      <td>adam</td>\n    </tr>\n    <tr>\n      <th>1</th>\n      <td>2</td>\n      <td>parker</td>\n    </tr>\n    <tr>\n      <th>2</th>\n      <td>3</td>\n      <td>henry</td>\n    </tr>\n    <tr>\n      <th>3</th>\n      <td>4</td>\n      <td>xixiang</td>\n    </tr>\n  </tbody>\n</table>\n</div>"
          },
          "metadata": {}
        }
      ],
      "execution_count": 51
    },
    {
      "cell_type": "code",
      "source": "# join registration & login table ---> i.e we have to specify we want to join on name index in regis table & column name in login table\n\npd.merge(registration, login, left_index=True, right_on='name', how='inner')  # --> joins index & column in two df tables",
      "metadata": {
        "trusted": true
      },
      "outputs": [
        {
          "execution_count": 52,
          "output_type": "execute_result",
          "data": {
            "text/plain": "   reg_id  login_id   name\n0       3         1   adam\n2       4         3  henry",
            "text/html": "<div>\n<style scoped>\n    .dataframe tbody tr th:only-of-type {\n        vertical-align: middle;\n    }\n\n    .dataframe tbody tr th {\n        vertical-align: top;\n    }\n\n    .dataframe thead th {\n        text-align: right;\n    }\n</style>\n<table border=\"1\" class=\"dataframe\">\n  <thead>\n    <tr style=\"text-align: right;\">\n      <th></th>\n      <th>reg_id</th>\n      <th>login_id</th>\n      <th>name</th>\n    </tr>\n  </thead>\n  <tbody>\n    <tr>\n      <th>0</th>\n      <td>3</td>\n      <td>1</td>\n      <td>adam</td>\n    </tr>\n    <tr>\n      <th>2</th>\n      <td>4</td>\n      <td>3</td>\n      <td>henry</td>\n    </tr>\n  </tbody>\n</table>\n</div>"
          },
          "metadata": {}
        }
      ],
      "execution_count": 52
    },
    {
      "cell_type": "markdown",
      "source": "##### deal with different key column names in joined df tabkes\n",
      "metadata": {}
    },
    {
      "cell_type": "code",
      "source": "registration",
      "metadata": {
        "trusted": true
      },
      "outputs": [
        {
          "execution_count": 53,
          "output_type": "execute_result",
          "data": {
            "text/plain": "       reg_id\nname         \nbob         1\ndilon       2\nadam        3\nhenry       4",
            "text/html": "<div>\n<style scoped>\n    .dataframe tbody tr th:only-of-type {\n        vertical-align: middle;\n    }\n\n    .dataframe tbody tr th {\n        vertical-align: top;\n    }\n\n    .dataframe thead th {\n        text-align: right;\n    }\n</style>\n<table border=\"1\" class=\"dataframe\">\n  <thead>\n    <tr style=\"text-align: right;\">\n      <th></th>\n      <th>reg_id</th>\n    </tr>\n    <tr>\n      <th>name</th>\n      <th></th>\n    </tr>\n  </thead>\n  <tbody>\n    <tr>\n      <th>bob</th>\n      <td>1</td>\n    </tr>\n    <tr>\n      <th>dilon</th>\n      <td>2</td>\n    </tr>\n    <tr>\n      <th>adam</th>\n      <td>3</td>\n    </tr>\n    <tr>\n      <th>henry</th>\n      <td>4</td>\n    </tr>\n  </tbody>\n</table>\n</div>"
          },
          "metadata": {}
        }
      ],
      "execution_count": 53
    },
    {
      "cell_type": "code",
      "source": "registration = registration.reset_index()  # ---> reset index name back to colum\n\nregistration",
      "metadata": {
        "trusted": true
      },
      "outputs": [
        {
          "execution_count": 55,
          "output_type": "execute_result",
          "data": {
            "text/plain": "    name  reg_id\n0    bob       1\n1  dilon       2\n2   adam       3\n3  henry       4",
            "text/html": "<div>\n<style scoped>\n    .dataframe tbody tr th:only-of-type {\n        vertical-align: middle;\n    }\n\n    .dataframe tbody tr th {\n        vertical-align: top;\n    }\n\n    .dataframe thead th {\n        text-align: right;\n    }\n</style>\n<table border=\"1\" class=\"dataframe\">\n  <thead>\n    <tr style=\"text-align: right;\">\n      <th></th>\n      <th>name</th>\n      <th>reg_id</th>\n    </tr>\n  </thead>\n  <tbody>\n    <tr>\n      <th>0</th>\n      <td>bob</td>\n      <td>1</td>\n    </tr>\n    <tr>\n      <th>1</th>\n      <td>dilon</td>\n      <td>2</td>\n    </tr>\n    <tr>\n      <th>2</th>\n      <td>adam</td>\n      <td>3</td>\n    </tr>\n    <tr>\n      <th>3</th>\n      <td>henry</td>\n      <td>4</td>\n    </tr>\n  </tbody>\n</table>\n</div>"
          },
          "metadata": {}
        }
      ],
      "execution_count": 55
    },
    {
      "cell_type": "code",
      "source": "registration.columns = ['reg_name', 'reg_id']  # rename --> name column to reg_name",
      "metadata": {
        "trusted": true
      },
      "outputs": [],
      "execution_count": 57
    },
    {
      "cell_type": "code",
      "source": "registration",
      "metadata": {
        "trusted": true
      },
      "outputs": [
        {
          "execution_count": 58,
          "output_type": "execute_result",
          "data": {
            "text/plain": "  reg_name  reg_id\n0      bob       1\n1    dilon       2\n2     adam       3\n3    henry       4",
            "text/html": "<div>\n<style scoped>\n    .dataframe tbody tr th:only-of-type {\n        vertical-align: middle;\n    }\n\n    .dataframe tbody tr th {\n        vertical-align: top;\n    }\n\n    .dataframe thead th {\n        text-align: right;\n    }\n</style>\n<table border=\"1\" class=\"dataframe\">\n  <thead>\n    <tr style=\"text-align: right;\">\n      <th></th>\n      <th>reg_name</th>\n      <th>reg_id</th>\n    </tr>\n  </thead>\n  <tbody>\n    <tr>\n      <th>0</th>\n      <td>bob</td>\n      <td>1</td>\n    </tr>\n    <tr>\n      <th>1</th>\n      <td>dilon</td>\n      <td>2</td>\n    </tr>\n    <tr>\n      <th>2</th>\n      <td>adam</td>\n      <td>3</td>\n    </tr>\n    <tr>\n      <th>3</th>\n      <td>henry</td>\n      <td>4</td>\n    </tr>\n  </tbody>\n</table>\n</div>"
          },
          "metadata": {}
        }
      ],
      "execution_count": 58
    },
    {
      "cell_type": "code",
      "source": "login",
      "metadata": {
        "trusted": true
      },
      "outputs": [
        {
          "execution_count": 59,
          "output_type": "execute_result",
          "data": {
            "text/plain": "   login_id     name\n0         1     adam\n1         2   parker\n2         3    henry\n3         4  xixiang",
            "text/html": "<div>\n<style scoped>\n    .dataframe tbody tr th:only-of-type {\n        vertical-align: middle;\n    }\n\n    .dataframe tbody tr th {\n        vertical-align: top;\n    }\n\n    .dataframe thead th {\n        text-align: right;\n    }\n</style>\n<table border=\"1\" class=\"dataframe\">\n  <thead>\n    <tr style=\"text-align: right;\">\n      <th></th>\n      <th>login_id</th>\n      <th>name</th>\n    </tr>\n  </thead>\n  <tbody>\n    <tr>\n      <th>0</th>\n      <td>1</td>\n      <td>adam</td>\n    </tr>\n    <tr>\n      <th>1</th>\n      <td>2</td>\n      <td>parker</td>\n    </tr>\n    <tr>\n      <th>2</th>\n      <td>3</td>\n      <td>henry</td>\n    </tr>\n    <tr>\n      <th>3</th>\n      <td>4</td>\n      <td>xixiang</td>\n    </tr>\n  </tbody>\n</table>\n</div>"
          },
          "metadata": {}
        }
      ],
      "execution_count": 59
    },
    {
      "cell_type": "code",
      "source": "\nresult = pd.merge(registration, login, how='inner', left_on='reg_name', right_on='name')  # inner join---> have to specific mention of column name on both table",
      "metadata": {
        "trusted": true
      },
      "outputs": [],
      "execution_count": 65
    },
    {
      "cell_type": "code",
      "source": "result  #NB - returns both clumns even though they represent same values",
      "metadata": {
        "trusted": true
      },
      "outputs": [
        {
          "execution_count": 66,
          "output_type": "execute_result",
          "data": {
            "text/plain": "  reg_name  reg_id  login_id   name\n0     adam       3         1   adam\n1    henry       4         3  henry",
            "text/html": "<div>\n<style scoped>\n    .dataframe tbody tr th:only-of-type {\n        vertical-align: middle;\n    }\n\n    .dataframe tbody tr th {\n        vertical-align: top;\n    }\n\n    .dataframe thead th {\n        text-align: right;\n    }\n</style>\n<table border=\"1\" class=\"dataframe\">\n  <thead>\n    <tr style=\"text-align: right;\">\n      <th></th>\n      <th>reg_name</th>\n      <th>reg_id</th>\n      <th>login_id</th>\n      <th>name</th>\n    </tr>\n  </thead>\n  <tbody>\n    <tr>\n      <th>0</th>\n      <td>adam</td>\n      <td>3</td>\n      <td>1</td>\n      <td>adam</td>\n    </tr>\n    <tr>\n      <th>1</th>\n      <td>henry</td>\n      <td>4</td>\n      <td>3</td>\n      <td>henry</td>\n    </tr>\n  </tbody>\n</table>\n</div>"
          },
          "metadata": {}
        }
      ],
      "execution_count": 66
    },
    {
      "cell_type": "code",
      "source": "result.drop('reg_name', axis=1)  # ---> drops duplicate column reg_name from result ",
      "metadata": {
        "trusted": true
      },
      "outputs": [
        {
          "execution_count": 67,
          "output_type": "execute_result",
          "data": {
            "text/plain": "   reg_id  login_id   name\n0       3         1   adam\n1       4         3  henry",
            "text/html": "<div>\n<style scoped>\n    .dataframe tbody tr th:only-of-type {\n        vertical-align: middle;\n    }\n\n    .dataframe tbody tr th {\n        vertical-align: top;\n    }\n\n    .dataframe thead th {\n        text-align: right;\n    }\n</style>\n<table border=\"1\" class=\"dataframe\">\n  <thead>\n    <tr style=\"text-align: right;\">\n      <th></th>\n      <th>reg_id</th>\n      <th>login_id</th>\n      <th>name</th>\n    </tr>\n  </thead>\n  <tbody>\n    <tr>\n      <th>0</th>\n      <td>3</td>\n      <td>1</td>\n      <td>adam</td>\n    </tr>\n    <tr>\n      <th>1</th>\n      <td>4</td>\n      <td>3</td>\n      <td>henry</td>\n    </tr>\n  </tbody>\n</table>\n</div>"
          },
          "metadata": {}
        }
      ],
      "execution_count": 67
    },
    {
      "cell_type": "code",
      "source": "# add or tag duplicate columns in pandas\n\nregistration.columns = ['name', 'id'] #---> rename column name to name & id \n\nregistration",
      "metadata": {
        "trusted": true
      },
      "outputs": [
        {
          "execution_count": 69,
          "output_type": "execute_result",
          "data": {
            "text/plain": "    name  id\n0    bob   1\n1  dilon   2\n2   adam   3\n3  henry   4",
            "text/html": "<div>\n<style scoped>\n    .dataframe tbody tr th:only-of-type {\n        vertical-align: middle;\n    }\n\n    .dataframe tbody tr th {\n        vertical-align: top;\n    }\n\n    .dataframe thead th {\n        text-align: right;\n    }\n</style>\n<table border=\"1\" class=\"dataframe\">\n  <thead>\n    <tr style=\"text-align: right;\">\n      <th></th>\n      <th>name</th>\n      <th>id</th>\n    </tr>\n  </thead>\n  <tbody>\n    <tr>\n      <th>0</th>\n      <td>bob</td>\n      <td>1</td>\n    </tr>\n    <tr>\n      <th>1</th>\n      <td>dilon</td>\n      <td>2</td>\n    </tr>\n    <tr>\n      <th>2</th>\n      <td>adam</td>\n      <td>3</td>\n    </tr>\n    <tr>\n      <th>3</th>\n      <td>henry</td>\n      <td>4</td>\n    </tr>\n  </tbody>\n</table>\n</div>"
          },
          "metadata": {}
        }
      ],
      "execution_count": 69
    },
    {
      "cell_type": "code",
      "source": "login",
      "metadata": {
        "trusted": true
      },
      "outputs": [
        {
          "execution_count": 70,
          "output_type": "execute_result",
          "data": {
            "text/plain": "   login_id     name\n0         1     adam\n1         2   parker\n2         3    henry\n3         4  xixiang",
            "text/html": "<div>\n<style scoped>\n    .dataframe tbody tr th:only-of-type {\n        vertical-align: middle;\n    }\n\n    .dataframe tbody tr th {\n        vertical-align: top;\n    }\n\n    .dataframe thead th {\n        text-align: right;\n    }\n</style>\n<table border=\"1\" class=\"dataframe\">\n  <thead>\n    <tr style=\"text-align: right;\">\n      <th></th>\n      <th>login_id</th>\n      <th>name</th>\n    </tr>\n  </thead>\n  <tbody>\n    <tr>\n      <th>0</th>\n      <td>1</td>\n      <td>adam</td>\n    </tr>\n    <tr>\n      <th>1</th>\n      <td>2</td>\n      <td>parker</td>\n    </tr>\n    <tr>\n      <th>2</th>\n      <td>3</td>\n      <td>henry</td>\n    </tr>\n    <tr>\n      <th>3</th>\n      <td>4</td>\n      <td>xixiang</td>\n    </tr>\n  </tbody>\n</table>\n</div>"
          },
          "metadata": {}
        }
      ],
      "execution_count": 70
    },
    {
      "cell_type": "code",
      "source": "login.columns = ['id', 'name']  # --> rename column name to id & name\n\nlogin",
      "metadata": {
        "trusted": true
      },
      "outputs": [
        {
          "execution_count": 71,
          "output_type": "execute_result",
          "data": {
            "text/plain": "   id     name\n0   1     adam\n1   2   parker\n2   3    henry\n3   4  xixiang",
            "text/html": "<div>\n<style scoped>\n    .dataframe tbody tr th:only-of-type {\n        vertical-align: middle;\n    }\n\n    .dataframe tbody tr th {\n        vertical-align: top;\n    }\n\n    .dataframe thead th {\n        text-align: right;\n    }\n</style>\n<table border=\"1\" class=\"dataframe\">\n  <thead>\n    <tr style=\"text-align: right;\">\n      <th></th>\n      <th>id</th>\n      <th>name</th>\n    </tr>\n  </thead>\n  <tbody>\n    <tr>\n      <th>0</th>\n      <td>1</td>\n      <td>adam</td>\n    </tr>\n    <tr>\n      <th>1</th>\n      <td>2</td>\n      <td>parker</td>\n    </tr>\n    <tr>\n      <th>2</th>\n      <td>3</td>\n      <td>henry</td>\n    </tr>\n    <tr>\n      <th>3</th>\n      <td>4</td>\n      <td>xixiang</td>\n    </tr>\n  </tbody>\n</table>\n</div>"
          },
          "metadata": {}
        }
      ],
      "execution_count": 71
    },
    {
      "cell_type": "code",
      "source": "pd.merge(registration, login, how='inner', on='name')    # --> inner join on name column, *** pandas automatically level id column as id_x & id_y\n",
      "metadata": {
        "trusted": true
      },
      "outputs": [
        {
          "execution_count": 72,
          "output_type": "execute_result",
          "data": {
            "text/plain": "    name  id_x  id_y\n0   adam     3     1\n1  henry     4     3",
            "text/html": "<div>\n<style scoped>\n    .dataframe tbody tr th:only-of-type {\n        vertical-align: middle;\n    }\n\n    .dataframe tbody tr th {\n        vertical-align: top;\n    }\n\n    .dataframe thead th {\n        text-align: right;\n    }\n</style>\n<table border=\"1\" class=\"dataframe\">\n  <thead>\n    <tr style=\"text-align: right;\">\n      <th></th>\n      <th>name</th>\n      <th>id_x</th>\n      <th>id_y</th>\n    </tr>\n  </thead>\n  <tbody>\n    <tr>\n      <th>0</th>\n      <td>adam</td>\n      <td>3</td>\n      <td>1</td>\n    </tr>\n    <tr>\n      <th>1</th>\n      <td>henry</td>\n      <td>4</td>\n      <td>3</td>\n    </tr>\n  </tbody>\n</table>\n</div>"
          },
          "metadata": {}
        }
      ],
      "execution_count": 72
    },
    {
      "cell_type": "code",
      "source": "pd.merge(registration, login, how='inner', on='name', suffixes=('_reg', '_log'))  # ---> we can also provide our suffix for common column name, eg - id \n",
      "metadata": {
        "trusted": true
      },
      "outputs": [
        {
          "execution_count": 74,
          "output_type": "execute_result",
          "data": {
            "text/plain": "    name  id_reg  id_log\n0   adam       3       1\n1  henry       4       3",
            "text/html": "<div>\n<style scoped>\n    .dataframe tbody tr th:only-of-type {\n        vertical-align: middle;\n    }\n\n    .dataframe tbody tr th {\n        vertical-align: top;\n    }\n\n    .dataframe thead th {\n        text-align: right;\n    }\n</style>\n<table border=\"1\" class=\"dataframe\">\n  <thead>\n    <tr style=\"text-align: right;\">\n      <th></th>\n      <th>name</th>\n      <th>id_reg</th>\n      <th>id_log</th>\n    </tr>\n  </thead>\n  <tbody>\n    <tr>\n      <th>0</th>\n      <td>adam</td>\n      <td>3</td>\n      <td>1</td>\n    </tr>\n    <tr>\n      <th>1</th>\n      <td>henry</td>\n      <td>4</td>\n      <td>3</td>\n    </tr>\n  </tbody>\n</table>\n</div>"
          },
          "metadata": {}
        }
      ],
      "execution_count": 74
    },
    {
      "cell_type": "code",
      "source": "# Thats it for combining dataframes in pandas :) ",
      "metadata": {
        "trusted": true
      },
      "outputs": [],
      "execution_count": 76
    },
    {
      "cell_type": "code",
      "source": "",
      "metadata": {
        "trusted": true
      },
      "outputs": [],
      "execution_count": null
    }
  ]
}